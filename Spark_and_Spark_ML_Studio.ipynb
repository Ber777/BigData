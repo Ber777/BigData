{
 "cells": [
  {
   "cell_type": "markdown",
   "metadata": {},
   "source": [
    "Лабораторная работа по Spark часть 1\n",
    "\n",
    "Задание: \n",
    "\n",
    "    Установить докер (docker.io)\n",
    "    \n",
    "    Скачать Датасет ( https://www.kaggle.com/kazanova/sentiment140#training.1600000.processed.noemoticon.csv )\n",
    "    \n",
    "    Распаковать датасет и поместить его в рабочкую папку\n",
    "    \n",
    "    Запустить докер образ командой docker run -p 8888:8888 -p 4040:4040 --rm -v \"(путь до папки где лежат данные):/home/jovyan/work\" jupyter/all-spark-notebook\n",
    "    \n",
    "    Прочитать вывод консоли и зайти в jupyter ноутбук\n",
    "    \n",
    "    Прочитать документацию по spark ( особенно https://spark.apache.org/docs/latest/rdd-programming-guide.html https://spark.apache.org/docs/latest/sql-programming-guide.html)\n",
    "    \n",
    "Для RDD и Dataframes\n",
    "\n",
    "1) Прочитать датасет и вывести первые 20 записей\n",
    "\n",
    "2) Посчитать количество слов во всех твитах датасета\n",
    "\n",
    "3) Посчитать количество уникальных слов во всех твитах\n",
    "\n",
    "Для Dataframe или RDD\n",
    "\n",
    "4) Найти пользователей с наибольшим числом постов и вывести первые 20 из них\n",
    "\n",
    "5) Найти пользователей с наибольшим числом слов\n",
    "\n",
    "6) Найти пользователей с наибольшим количеством упоминаний( может не встречаться в датасете? упоминанием считать вхождение @username в твит)\n",
    "\n",
    "7) Посчитать наиболее популярные для твитов дни и вывести их в порядке убвания\n",
    "\n",
    "8) Посчитать наиболее популярный часы для твитов\n"
   ]
  },
  {
   "cell_type": "code",
   "execution_count": 94,
   "metadata": {},
   "outputs": [],
   "source": [
    "# Создаем сессию\n",
    "from pyspark.sql import SparkSession\n",
    "spark = SparkSession.builder.appName('abc').getOrCreate()"
   ]
  },
  {
   "cell_type": "code",
   "execution_count": 95,
   "metadata": {},
   "outputs": [],
   "source": [
    "# Считывание данных датасета\n",
    "data = spark.read.csv(\"1\")"
   ]
  },
  {
   "cell_type": "code",
   "execution_count": 96,
   "metadata": {},
   "outputs": [
    {
     "name": "stdout",
     "output_type": "stream",
     "text": [
      "+---+----------+--------------------+--------+---------------+--------------------+\n",
      "|_c0|       _c1|                 _c2|     _c3|            _c4|                 _c5|\n",
      "+---+----------+--------------------+--------+---------------+--------------------+\n",
      "|  0|1467810369|Mon Apr 06 22:19:...|NO_QUERY|_TheSpecialOne_|@switchfoot http:...|\n",
      "|  0|1467810672|Mon Apr 06 22:19:...|NO_QUERY|  scotthamilton|is upset that he ...|\n",
      "|  0|1467810917|Mon Apr 06 22:19:...|NO_QUERY|       mattycus|@Kenichan I dived...|\n",
      "|  0|1467811184|Mon Apr 06 22:19:...|NO_QUERY|        ElleCTF|my whole body fee...|\n",
      "|  0|1467811193|Mon Apr 06 22:19:...|NO_QUERY|         Karoli|@nationwideclass ...|\n",
      "|  0|1467811372|Mon Apr 06 22:20:...|NO_QUERY|       joy_wolf|@Kwesidei not the...|\n",
      "|  0|1467811592|Mon Apr 06 22:20:...|NO_QUERY|        mybirch|         Need a hug |\n",
      "|  0|1467811594|Mon Apr 06 22:20:...|NO_QUERY|           coZZ|@LOLTrish hey  lo...|\n",
      "|  0|1467811795|Mon Apr 06 22:20:...|NO_QUERY|2Hood4Hollywood|@Tatiana_K nope t...|\n",
      "|  0|1467812025|Mon Apr 06 22:20:...|NO_QUERY|        mimismo|@twittera que me ...|\n",
      "|  0|1467812416|Mon Apr 06 22:20:...|NO_QUERY| erinx3leannexo|spring break in p...|\n",
      "|  0|1467812579|Mon Apr 06 22:20:...|NO_QUERY|   pardonlauren|I just re-pierced...|\n",
      "|  0|1467812723|Mon Apr 06 22:20:...|NO_QUERY|           TLeC|@caregiving I cou...|\n",
      "|  0|1467812771|Mon Apr 06 22:20:...|NO_QUERY|robrobbierobert|@octolinz16 It it...|\n",
      "|  0|1467812784|Mon Apr 06 22:20:...|NO_QUERY|    bayofwolves|@smarrison i woul...|\n",
      "|  0|1467812799|Mon Apr 06 22:20:...|NO_QUERY|     HairByJess|@iamjazzyfizzle I...|\n",
      "|  0|1467812964|Mon Apr 06 22:20:...|NO_QUERY| lovesongwriter|Hollis' death sce...|\n",
      "|  0|1467813137|Mon Apr 06 22:20:...|NO_QUERY|       armotley|about to file taxes |\n",
      "|  0|1467813579|Mon Apr 06 22:20:...|NO_QUERY|     starkissed|@LettyA ahh ive a...|\n",
      "|  0|1467813782|Mon Apr 06 22:20:...|NO_QUERY|      gi_gi_bee|@FakerPattyPattz ...|\n",
      "+---+----------+--------------------+--------+---------------+--------------------+\n",
      "only showing top 20 rows\n",
      "\n"
     ]
    }
   ],
   "source": [
    "# Задание 1 - вывести первые 20 записей датасета\n",
    "data.show()"
   ]
  },
  {
   "cell_type": "code",
   "execution_count": 97,
   "metadata": {},
   "outputs": [],
   "source": [
    "import pyspark.sql.functions as func"
   ]
  },
  {
   "cell_type": "code",
   "execution_count": 98,
   "metadata": {},
   "outputs": [],
   "source": [
    "# Задание 2 - подсчет слов во всех твитах датасета\n",
    "# Подсчет производим по колонке _c5\n",
    "data_new = data.withColumn('words_count', func.size(func.split(func.col('_c5'), ' ')))\n",
    "words_count = data_new.select(func.sum('words_count')).collect()"
   ]
  },
  {
   "cell_type": "code",
   "execution_count": 99,
   "metadata": {},
   "outputs": [
    {
     "data": {
      "text/plain": [
       "[Row(sum(words_count)=23011409)]"
      ]
     },
     "execution_count": 99,
     "metadata": {},
     "output_type": "execute_result"
    }
   ],
   "source": [
    "# Итого слов (с учетом повторяющихся)\n",
    "words_count"
   ]
  },
  {
   "cell_type": "code",
   "execution_count": 100,
   "metadata": {},
   "outputs": [
    {
     "name": "stdout",
     "output_type": "stream",
     "text": [
      "+---+----------+--------------------+--------+---------------+--------------------+--------------------+\n",
      "|_c0|       _c1|                 _c2|     _c3|            _c4|                 _c5|       words_splited|\n",
      "+---+----------+--------------------+--------+---------------+--------------------+--------------------+\n",
      "|  0|1467810369|Mon Apr 06 22:19:...|NO_QUERY|_TheSpecialOne_|@switchfoot http:...|[@switchfoot, htt...|\n",
      "|  0|1467810672|Mon Apr 06 22:19:...|NO_QUERY|  scotthamilton|is upset that he ...|[is, upset, that,...|\n",
      "|  0|1467810917|Mon Apr 06 22:19:...|NO_QUERY|       mattycus|@Kenichan I dived...|[@Kenichan, I, di...|\n",
      "|  0|1467811184|Mon Apr 06 22:19:...|NO_QUERY|        ElleCTF|my whole body fee...|[my, whole, body,...|\n",
      "|  0|1467811193|Mon Apr 06 22:19:...|NO_QUERY|         Karoli|@nationwideclass ...|[@nationwideclass...|\n",
      "|  0|1467811372|Mon Apr 06 22:20:...|NO_QUERY|       joy_wolf|@Kwesidei not the...|[@Kwesidei, not, ...|\n",
      "|  0|1467811592|Mon Apr 06 22:20:...|NO_QUERY|        mybirch|         Need a hug |    [Need, a, hug, ]|\n",
      "|  0|1467811594|Mon Apr 06 22:20:...|NO_QUERY|           coZZ|@LOLTrish hey  lo...|[@LOLTrish, hey, ...|\n",
      "|  0|1467811795|Mon Apr 06 22:20:...|NO_QUERY|2Hood4Hollywood|@Tatiana_K nope t...|[@Tatiana_K, nope...|\n",
      "|  0|1467812025|Mon Apr 06 22:20:...|NO_QUERY|        mimismo|@twittera que me ...|[@twittera, que, ...|\n",
      "|  0|1467812416|Mon Apr 06 22:20:...|NO_QUERY| erinx3leannexo|spring break in p...|[spring, break, i...|\n",
      "|  0|1467812579|Mon Apr 06 22:20:...|NO_QUERY|   pardonlauren|I just re-pierced...|[I, just, re-pier...|\n",
      "|  0|1467812723|Mon Apr 06 22:20:...|NO_QUERY|           TLeC|@caregiving I cou...|[@caregiving, I, ...|\n",
      "|  0|1467812771|Mon Apr 06 22:20:...|NO_QUERY|robrobbierobert|@octolinz16 It it...|[@octolinz16, It,...|\n",
      "|  0|1467812784|Mon Apr 06 22:20:...|NO_QUERY|    bayofwolves|@smarrison i woul...|[@smarrison, i, w...|\n",
      "|  0|1467812799|Mon Apr 06 22:20:...|NO_QUERY|     HairByJess|@iamjazzyfizzle I...|[@iamjazzyfizzle,...|\n",
      "|  0|1467812964|Mon Apr 06 22:20:...|NO_QUERY| lovesongwriter|Hollis' death sce...|[Hollis', death, ...|\n",
      "|  0|1467813137|Mon Apr 06 22:20:...|NO_QUERY|       armotley|about to file taxes |[about, to, file,...|\n",
      "|  0|1467813579|Mon Apr 06 22:20:...|NO_QUERY|     starkissed|@LettyA ahh ive a...|[@LettyA, ahh, iv...|\n",
      "|  0|1467813782|Mon Apr 06 22:20:...|NO_QUERY|      gi_gi_bee|@FakerPattyPattz ...|[@FakerPattyPattz...|\n",
      "+---+----------+--------------------+--------+---------------+--------------------+--------------------+\n",
      "only showing top 20 rows\n",
      "\n"
     ]
    }
   ],
   "source": [
    "# Задание 3 - подсчитать уникальные слова во всех твитах\n",
    "data_new = data.withColumn('words_splited', func.split(func.col('_c5'), ' '))\n",
    "data_new.show()"
   ]
  },
  {
   "cell_type": "code",
   "execution_count": 101,
   "metadata": {},
   "outputs": [
    {
     "name": "stdout",
     "output_type": "stream",
     "text": [
      "+---------------+--------------------+\n",
      "|            _c4|                 col|\n",
      "+---------------+--------------------+\n",
      "|_TheSpecialOne_|         @switchfoot|\n",
      "|_TheSpecialOne_|http://twitpic.co...|\n",
      "|_TheSpecialOne_|                   -|\n",
      "|_TheSpecialOne_|               Awww,|\n",
      "|_TheSpecialOne_|              that's|\n",
      "|_TheSpecialOne_|                   a|\n",
      "|_TheSpecialOne_|             bummer.|\n",
      "|_TheSpecialOne_|                    |\n",
      "|_TheSpecialOne_|                 You|\n",
      "|_TheSpecialOne_|             shoulda|\n",
      "|_TheSpecialOne_|                 got|\n",
      "|_TheSpecialOne_|               David|\n",
      "|_TheSpecialOne_|                Carr|\n",
      "|_TheSpecialOne_|                  of|\n",
      "|_TheSpecialOne_|               Third|\n",
      "|_TheSpecialOne_|                 Day|\n",
      "|_TheSpecialOne_|                  to|\n",
      "|_TheSpecialOne_|                  do|\n",
      "|_TheSpecialOne_|                 it.|\n",
      "|_TheSpecialOne_|                  ;D|\n",
      "+---------------+--------------------+\n",
      "only showing top 20 rows\n",
      "\n"
     ]
    }
   ],
   "source": [
    "# Воспользуемся функцией explode\n",
    "data_words = data_new.select(\"_c4\", func.explode(\"words_splited\"))\n",
    "data_words.show()"
   ]
  },
  {
   "cell_type": "code",
   "execution_count": 102,
   "metadata": {},
   "outputs": [
    {
     "data": {
      "text/plain": [
       "1350484"
      ]
     },
     "execution_count": 102,
     "metadata": {},
     "output_type": "execute_result"
    }
   ],
   "source": [
    "# Итого уникальных слов\n",
    "data_words.select('col').distinct().count()"
   ]
  },
  {
   "cell_type": "code",
   "execution_count": 103,
   "metadata": {},
   "outputs": [
    {
     "name": "stdout",
     "output_type": "stream",
     "text": [
      "+---------------+--------------------+\n",
      "|            _c4|                 _c5|\n",
      "+---------------+--------------------+\n",
      "|_TheSpecialOne_|@switchfoot http:...|\n",
      "|  scotthamilton|is upset that he ...|\n",
      "|       mattycus|@Kenichan I dived...|\n",
      "|        ElleCTF|my whole body fee...|\n",
      "|         Karoli|@nationwideclass ...|\n",
      "|       joy_wolf|@Kwesidei not the...|\n",
      "|        mybirch|         Need a hug |\n",
      "|           coZZ|@LOLTrish hey  lo...|\n",
      "|2Hood4Hollywood|@Tatiana_K nope t...|\n",
      "|        mimismo|@twittera que me ...|\n",
      "| erinx3leannexo|spring break in p...|\n",
      "|   pardonlauren|I just re-pierced...|\n",
      "|           TLeC|@caregiving I cou...|\n",
      "|robrobbierobert|@octolinz16 It it...|\n",
      "|    bayofwolves|@smarrison i woul...|\n",
      "|     HairByJess|@iamjazzyfizzle I...|\n",
      "| lovesongwriter|Hollis' death sce...|\n",
      "|       armotley|about to file taxes |\n",
      "|     starkissed|@LettyA ahh ive a...|\n",
      "|      gi_gi_bee|@FakerPattyPattz ...|\n",
      "+---------------+--------------------+\n",
      "only showing top 20 rows\n",
      "\n"
     ]
    }
   ],
   "source": [
    "# Задание 4 - Найти пользователей с наибольшим числом постов и вывести первые 20 из них\n",
    "data_users = data.select(\"_c4\", \"_c5\")\n",
    "data_users.show()"
   ]
  },
  {
   "cell_type": "code",
   "execution_count": 104,
   "metadata": {},
   "outputs": [
    {
     "name": "stdout",
     "output_type": "stream",
     "text": [
      "+---------------+-----+\n",
      "|            _c4|count|\n",
      "+---------------+-----+\n",
      "|     megan_rice|   15|\n",
      "|        Daniiej|    3|\n",
      "|         MeghTW|    1|\n",
      "|   candicebunny|    1|\n",
      "|stranger_danger|   14|\n",
      "|  divingkid2001|    1|\n",
      "|    Lilli_Allen|    1|\n",
      "|        caaaami|    1|\n",
      "|       J_Moneyy|    7|\n",
      "|        SoEdith|    5|\n",
      "|     convoy3571|   13|\n",
      "|       kyrabeth|    1|\n",
      "|      kateblogs|   75|\n",
      "|    lovelylivxo|   16|\n",
      "|       irlbinky|    3|\n",
      "|        Ste1987|   50|\n",
      "|       squintoo|    1|\n",
      "|     PhantomV48|    2|\n",
      "|        sophizz|    2|\n",
      "|      tink68113|    1|\n",
      "+---------------+-----+\n",
      "only showing top 20 rows\n",
      "\n"
     ]
    }
   ],
   "source": [
    "# Группируем по никнейму и находим количество твитов каждого пользователя\n",
    "data_count = data.groupBy(\"_c4\").count()\n",
    "data_count.show()"
   ]
  },
  {
   "cell_type": "code",
   "execution_count": 105,
   "metadata": {},
   "outputs": [
    {
     "name": "stdout",
     "output_type": "stream",
     "text": [
      "+---------------+-----+\n",
      "|            _c4|count|\n",
      "+---------------+-----+\n",
      "|       lost_dog|  549|\n",
      "|        webwoke|  345|\n",
      "|       tweetpet|  310|\n",
      "|SallytheShizzle|  281|\n",
      "|    VioletsCRUK|  279|\n",
      "|    mcraddictal|  276|\n",
      "|       tsarnick|  248|\n",
      "|    what_bugs_u|  246|\n",
      "|    Karen230683|  238|\n",
      "|      DarkPiano|  236|\n",
      "|   SongoftheOss|  227|\n",
      "|      Jayme1988|  225|\n",
      "|         keza34|  219|\n",
      "| ramdomthoughts|  216|\n",
      "|      shanajaca|  213|\n",
      "|         wowlew|  212|\n",
      "|   TraceyHewins|  211|\n",
      "|     nuttychris|  211|\n",
      "|   thisgoeshere|  207|\n",
      "|     Spidersamm|  205|\n",
      "+---------------+-----+\n",
      "only showing top 20 rows\n",
      "\n"
     ]
    }
   ],
   "source": [
    "# Проводим сортировку по количеству и выводим топ-20 по твитам\n",
    "data_count.sort(func.desc(\"count\")).show()"
   ]
  },
  {
   "cell_type": "code",
   "execution_count": 106,
   "metadata": {},
   "outputs": [
    {
     "name": "stdout",
     "output_type": "stream",
     "text": [
      "+---------------+-----+\n",
      "|            _c4|count|\n",
      "+---------------+-----+\n",
      "|       lost_dog| 6588|\n",
      "|    what_bugs_u| 5177|\n",
      "|    VioletsCRUK| 5108|\n",
      "|SallytheShizzle| 4480|\n",
      "|      shanajaca| 3698|\n",
      "| felicityfuller| 3626|\n",
      "|   SongoftheOss| 3436|\n",
      "|          StDAY| 3341|\n",
      "|     nuttychris| 3309|\n",
      "| ramdomthoughts| 3229|\n",
      "|       tsarnick| 3170|\n",
      "|    mcraddictal| 3145|\n",
      "|     Spidersamm| 3028|\n",
      "|   JessMcFlyxxx| 2989|\n",
      "|   thisgoeshere| 2977|\n",
      "|    linnetwoods| 2928|\n",
      "|    Dutchrudder| 2897|\n",
      "|MTVnHollyWEST23| 2821|\n",
      "| JBnVFCLover786| 2785|\n",
      "|torilovesbradie| 2748|\n",
      "+---------------+-----+\n",
      "only showing top 20 rows\n",
      "\n"
     ]
    }
   ],
   "source": [
    "# Задание 5 - Найти пользователей с наибольшим числом слов\n",
    "# Группируем по никнейму, подсчитываем слова и сортируем в порядке убывания\n",
    "data_words.groupBy(\"_c4\").count().sort(func.desc(\"count\")).show()"
   ]
  },
  {
   "cell_type": "code",
   "execution_count": 107,
   "metadata": {},
   "outputs": [
    {
     "name": "stdout",
     "output_type": "stream",
     "text": [
      "+----------------+-----+\n",
      "|             col|count|\n",
      "+----------------+-----+\n",
      "|     @mileycyrus| 4310|\n",
      "|       @tommcfly| 3837|\n",
      "|       @ddlovato| 3349|\n",
      "|  @Jonasbrothers| 1263|\n",
      "|    @DavidArchie| 1222|\n",
      "|   @jordanknight| 1105|\n",
      "| @DonnieWahlberg| 1085|\n",
      "|@JonathanRKnight| 1053|\n",
      "|   @mitchelmusso| 1038|\n",
      "|  @taylorswift13|  973|\n",
      "|  @jonasbrothers|  954|\n",
      "|    @selenagomez|  782|\n",
      "|    @dougiemcfly|  781|\n",
      "|         @aplusk|  606|\n",
      "| @peterfacinelli|  602|\n",
      "|   @joeymcintyre|  562|\n",
      "|    @gfalcone601|  539|\n",
      "|     @Dannymcfly|  538|\n",
      "|   @shaundiviney|  503|\n",
      "|         @YoungQ|  501|\n",
      "+----------------+-----+\n",
      "only showing top 20 rows\n",
      "\n"
     ]
    }
   ],
   "source": [
    "# Задание 6 - Найти пользователей с наибольшим количеством упоминаний (упоминанием считать вхождение @username в твит)\n",
    "# Производим поиск по колонке col и ищем слова которые начинаются с @ и имеют после еще символы\n",
    "data_words.groupBy(\"col\").count().select('*').where(\"col LIKE '@%' and col != '@'\").sort(func.desc(\"count\")).show()"
   ]
  },
  {
   "cell_type": "code",
   "execution_count": 108,
   "metadata": {},
   "outputs": [
    {
     "name": "stdout",
     "output_type": "stream",
     "text": [
      "+--------------------+-----+\n",
      "|                 _c2|count|\n",
      "+--------------------+-----+\n",
      "|Mon Jun 15 12:53:...|   20|\n",
      "|Mon Jun 15 13:39:...|   17|\n",
      "|Fri May 29 13:40:...|   17|\n",
      "|Fri May 22 05:10:...|   17|\n",
      "|Fri Jun 05 11:05:...|   16|\n",
      "|Fri Jun 05 14:13:...|   16|\n",
      "|Mon Jun 01 15:19:...|   15|\n",
      "|Mon Jun 01 12:25:...|   15|\n",
      "|Fri Jun 05 14:17:...|   15|\n",
      "|Fri May 22 08:34:...|   15|\n",
      "|Sat Jun 06 11:59:...|   15|\n",
      "|Fri May 29 10:09:...|   15|\n",
      "|Sat May 30 07:53:...|   15|\n",
      "|Fri Jun 05 09:45:...|   15|\n",
      "|Mon Jun 15 10:39:...|   15|\n",
      "|Fri Jun 05 15:47:...|   14|\n",
      "|Mon Jun 15 13:40:...|   14|\n",
      "|Fri May 22 07:45:...|   14|\n",
      "|Sun May 17 11:20:...|   14|\n",
      "|Fri May 29 21:11:...|   14|\n",
      "+--------------------+-----+\n",
      "only showing top 20 rows\n",
      "\n"
     ]
    }
   ],
   "source": [
    "# Задание 7 - Посчитать наиболее популярные для твитов дни и вывести их в порядке убвания\n",
    "data.groupBy(\"_c2\").count().sort(func.desc(\"count\")).show()"
   ]
  },
  {
   "cell_type": "code",
   "execution_count": 109,
   "metadata": {},
   "outputs": [],
   "source": [
    "# Берем третий элемент массива(колонки) с датой твитов\n",
    "data_date = data.withColumn('day', func.split(func.col('_c2'), ' ')[2])"
   ]
  },
  {
   "cell_type": "code",
   "execution_count": 110,
   "metadata": {},
   "outputs": [
    {
     "name": "stdout",
     "output_type": "stream",
     "text": [
      "+---+----------+--------------------+--------+---------------+--------------------+---+\n",
      "|_c0|       _c1|                 _c2|     _c3|            _c4|                 _c5|day|\n",
      "+---+----------+--------------------+--------+---------------+--------------------+---+\n",
      "|  0|2298661604|Tue Jun 23 11:57:...|NO_QUERY|     zzzzeus111|Wishing I were th...| 23|\n",
      "|  0|2011498170|Tue Jun 02 19:06:...|NO_QUERY|zzzyourdreamzzz|OMG...... Im the ...| 02|\n",
      "|  4|1980201081|Sun May 31 06:01:...|NO_QUERY|     zzzunzinnn|wat a mild SURPRI...| 31|\n",
      "|  4|2064493454|Sun Jun 07 06:25:...|NO_QUERY|     zzzunzinnn|tanoshii tanoshii...| 07|\n",
      "|  4|2053334447|Sat Jun 06 04:10:...|NO_QUERY|     zzzunzinnn|I LOVEEE.. YOU, M...| 06|\n",
      "|  4|1551520572|Sat Apr 18 09:16:...|NO_QUERY|          zzzum|Oh lord yes! mom ...| 18|\n",
      "|  4|1825885604|Sun May 17 07:07:...|NO_QUERY|         zzztar|Watching Lipstick...| 17|\n",
      "|  4|1826960235|Sun May 17 09:41:...|NO_QUERY|         zzztar|@Heather_Poole I ...| 17|\n",
      "|  0|2066133668|Sun Jun 07 09:57:...|NO_QUERY|      zzzoeface|my sister comes h...| 07|\n",
      "|  0|2236027288|Fri Jun 19 02:40:...|NO_QUERY|     zzzap_BOOM|Is sleep vital? N...| 19|\n",
      "|  4|1751920428|Sat May 09 20:36:...|NO_QUERY|        zzzaney|just sending a tw...| 09|\n",
      "|  4|1968081803|Fri May 29 20:43:...|NO_QUERY|       zzzandra|@StarChild54 aw, ...| 29|\n",
      "|  4|2009037610|Tue Jun 02 15:03:...|NO_QUERY|       zzzandra|that redbox vendi...| 02|\n",
      "|  0|1795698676|Thu May 14 08:13:...|NO_QUERY|       zzzandra|officially set TW...| 14|\n",
      "|  4|1990023165|Mon Jun 01 03:37:...|NO_QUERY|       zzzainus|check out rambo's...| 01|\n",
      "|  4|1990409870|Mon Jun 01 04:47:...|NO_QUERY|       zzzainus|bringing you jame...| 01|\n",
      "|  0|2249466470|Fri Jun 19 22:23:...|NO_QUERY|      zzzValzzz|@DalkullanJewel t...| 19|\n",
      "|  0|1958069290|Fri May 29 02:33:...|NO_QUERY|      zzzValzzz|uhh I wish someon...| 29|\n",
      "|  0|2322412473|Wed Jun 24 22:34:...|NO_QUERY|      zzzValzzz|@ArtByZoe I am tr...| 24|\n",
      "|  0|2260003820|Sat Jun 20 18:30:...|NO_QUERY|      zzzValzzz|@HelmStudios hey ...| 20|\n",
      "+---+----------+--------------------+--------+---------------+--------------------+---+\n",
      "only showing top 20 rows\n",
      "\n"
     ]
    }
   ],
   "source": [
    "data_date.sort(func.desc('_c4')).show()"
   ]
  },
  {
   "cell_type": "code",
   "execution_count": 111,
   "metadata": {},
   "outputs": [
    {
     "name": "stdout",
     "output_type": "stream",
     "text": [
      "+---+------+\n",
      "|day| count|\n",
      "+---+------+\n",
      "| 01|118006|\n",
      "| 06|115036|\n",
      "| 07|113661|\n",
      "| 15|109781|\n",
      "| 30|103673|\n",
      "| 18|101227|\n",
      "| 31| 94588|\n",
      "| 02| 91626|\n",
      "| 17| 87250|\n",
      "| 16| 77126|\n",
      "| 03| 76921|\n",
      "| 29| 73827|\n",
      "| 19| 70605|\n",
      "| 20| 63824|\n",
      "| 05| 58757|\n",
      "| 22| 51083|\n",
      "| 21| 27079|\n",
      "| 10| 26029|\n",
      "| 14| 25732|\n",
      "| 04| 23323|\n",
      "+---+------+\n",
      "only showing top 20 rows\n",
      "\n"
     ]
    }
   ],
   "source": [
    "# Группируем по дню и подсчитываем количество твитов в дни в порядке убывания\n",
    "data_date.groupBy('day').count().sort(func.desc(\"count\")).show()"
   ]
  },
  {
   "cell_type": "code",
   "execution_count": 112,
   "metadata": {},
   "outputs": [
    {
     "name": "stdout",
     "output_type": "stream",
     "text": [
      "+-----+-----+\n",
      "|hours|count|\n",
      "+-----+-----+\n",
      "|   23|84750|\n",
      "|   07|83654|\n",
      "|   00|80865|\n",
      "|   06|80852|\n",
      "|   05|78623|\n",
      "|   22|78328|\n",
      "|   04|76995|\n",
      "|   08|76287|\n",
      "|   01|75268|\n",
      "|   03|74253|\n",
      "|   02|73991|\n",
      "|   21|68964|\n",
      "|   09|67278|\n",
      "|   11|61009|\n",
      "|   10|60689|\n",
      "|   19|57722|\n",
      "|   20|57059|\n",
      "|   16|55720|\n",
      "|   18|53485|\n",
      "|   17|51843|\n",
      "+-----+-----+\n",
      "only showing top 20 rows\n",
      "\n"
     ]
    }
   ],
   "source": [
    "# Задание 8 - Посчитать наиболее популярный часы для твитов\n",
    "data_time = data.withColumn('hours', func.split(func.split(func.col('_c2'), ' ')[3], ':')[0])\\\n",
    ".groupBy(\"hours\").count().sort(func.desc(\"count\")).show()"
   ]
  },
  {
   "cell_type": "markdown",
   "metadata": {},
   "source": [
    "SparkMLlib Вторая часть работы со Spark\n",
    "\n",
    "Задание:\n",
    "\n",
    "Изучить документацию:  https://spark.apache.org/docs/latest/ml-guide.html  https://spark.apache.org/docs/latest/ml-statistics.html https://spark.apache.org/docs/latest/ml-datasource https://spark.apache.org/docs/latest/ml-features.html https://spark.apache.org/docs/latest/ml-classification-regression.html\n",
    "\n",
    "Загрузить https://data.cityofchicago.org/Health-Human-Services/Food-Inspections/4ijn-s7e5 в csv формате\n",
    "\n",
    "Выполнить примеры из https://spark.apache.org/docs/latest/ml-statistics.html https://spark.apache.org/docs/latest/ml-pipeline.html\n",
    "\n",
    "Построить модели предсказаний:\n",
    "\n",
    "    Изучить пример https://docs.microsoft.com/ru-ru/azure/hdinsight/spark/apache-spark-machine-learning-mllib-ipython\n",
    "\n",
    "    Повторить данный пример, с той лишь разницей, что считываются данные с помощью функции spark.read.csv ( прочитать какие нужны параметры ), чтобы прочитало корректно учесть что %% не работает,(local) и можно заменить %local countResultsdf = spark.sql(\"SELECT COUNT(results) AS cnt, results as results FROM CountResults GROUP BY results\").toPandas()\n",
    "\n",
    "    Второго датасета нет , поэтому сделать семплирование датасета на тестовый и тот с помощью которого обучается модель регрессии ( 0.8 , 0.2 пропорции или какие -то другие) , c помощью функции sample\n",
    "\n",
    "Учесть, то , что используется питон 3 версии, а впримере второй\n",
    "\n",
    "    попробовать нарисовать графики предсказаний и поиграться с параметрами лог регресии\n",
    "\n",
    "\n"
   ]
  },
  {
   "cell_type": "code",
   "execution_count": 113,
   "metadata": {},
   "outputs": [],
   "source": [
    "from pyspark.ml.linalg import Vectors\n",
    "from pyspark.ml.stat import Correlation"
   ]
  },
  {
   "cell_type": "code",
   "execution_count": 114,
   "metadata": {},
   "outputs": [
    {
     "name": "stdout",
     "output_type": "stream",
     "text": [
      "Pearson correlation matrix:\n",
      "DenseMatrix([[1.        , 0.05564149,        nan, 0.40047142],\n",
      "             [0.05564149, 1.        ,        nan, 0.91359586],\n",
      "             [       nan,        nan, 1.        ,        nan],\n",
      "             [0.40047142, 0.91359586,        nan, 1.        ]])\n",
      "Spearman correlation matrix:\n",
      "DenseMatrix([[1.        , 0.10540926,        nan, 0.4       ],\n",
      "             [0.10540926, 1.        ,        nan, 0.9486833 ],\n",
      "             [       nan,        nan, 1.        ,        nan],\n",
      "             [0.4       , 0.9486833 ,        nan, 1.        ]])\n"
     ]
    }
   ],
   "source": [
    "data = [(Vectors.sparse(4, [(0, 1.0), (3, -2.0)]),),\n",
    "        (Vectors.dense([4.0, 5.0, 0.0, 3.0]),),\n",
    "        (Vectors.dense([6.0, 7.0, 0.0, 8.0]),),\n",
    "        (Vectors.sparse(4, [(0, 9.0), (3, 1.0)]),)]\n",
    "df = spark.createDataFrame(data, [\"features\"])\n",
    "\n",
    "r1 = Correlation.corr(df, \"features\").head()\n",
    "print(\"Pearson correlation matrix:\\n\" + str(r1[0]))\n",
    "\n",
    "r2 = Correlation.corr(df, \"features\", \"spearman\").head()\n",
    "print(\"Spearman correlation matrix:\\n\" + str(r2[0]))"
   ]
  },
  {
   "cell_type": "code",
   "execution_count": 115,
   "metadata": {},
   "outputs": [],
   "source": [
    "from pyspark.ml.linalg import Vectors\n",
    "from pyspark.ml.stat import ChiSquareTest"
   ]
  },
  {
   "cell_type": "code",
   "execution_count": 116,
   "metadata": {},
   "outputs": [
    {
     "name": "stdout",
     "output_type": "stream",
     "text": [
      "pValues: [0.6872892787909721,0.6822703303362126]\n",
      "degreesOfFreedom: [2, 3]\n",
      "statistics: [0.75,1.5]\n"
     ]
    }
   ],
   "source": [
    "data = [(0.0, Vectors.dense(0.5, 10.0)),\n",
    "        (0.0, Vectors.dense(1.5, 20.0)),\n",
    "        (1.0, Vectors.dense(1.5, 30.0)),\n",
    "        (0.0, Vectors.dense(3.5, 30.0)),\n",
    "        (0.0, Vectors.dense(3.5, 40.0)),\n",
    "        (1.0, Vectors.dense(3.5, 40.0))]\n",
    "df = spark.createDataFrame(data, [\"label\", \"features\"])\n",
    "\n",
    "r = ChiSquareTest.test(df, \"features\", \"label\").head()\n",
    "print(\"pValues: \" + str(r.pValues))\n",
    "print(\"degreesOfFreedom: \" + str(r.degreesOfFreedom))\n",
    "print(\"statistics: \" + str(r.statistics))"
   ]
  },
  {
   "cell_type": "code",
   "execution_count": 117,
   "metadata": {},
   "outputs": [],
   "source": [
    "from pyspark.ml.stat import Summarizer\n",
    "from pyspark.sql import Row\n",
    "from pyspark.ml.linalg import Vectors\n",
    "sc = spark.sparkContext"
   ]
  },
  {
   "cell_type": "code",
   "execution_count": 118,
   "metadata": {},
   "outputs": [
    {
     "name": "stdout",
     "output_type": "stream",
     "text": [
      "+-----------------------------------+\n",
      "|aggregate_metrics(features, weight)|\n",
      "+-----------------------------------+\n",
      "|[[1.0,1.0,1.0], 1]                 |\n",
      "+-----------------------------------+\n",
      "\n",
      "+--------------------------------+\n",
      "|aggregate_metrics(features, 1.0)|\n",
      "+--------------------------------+\n",
      "|[[1.0,1.5,2.0], 2]              |\n",
      "+--------------------------------+\n",
      "\n",
      "+--------------+\n",
      "|mean(features)|\n",
      "+--------------+\n",
      "|[1.0,1.0,1.0] |\n",
      "+--------------+\n",
      "\n",
      "+--------------+\n",
      "|mean(features)|\n",
      "+--------------+\n",
      "|[1.0,1.5,2.0] |\n",
      "+--------------+\n",
      "\n"
     ]
    }
   ],
   "source": [
    "df = sc.parallelize([Row(weight=1.0, features=Vectors.dense(1.0, 1.0, 1.0)),\n",
    "                     Row(weight=0.0, features=Vectors.dense(1.0, 2.0, 3.0))]).toDF()\n",
    "\n",
    "# create summarizer for multiple metrics \"mean\" and \"count\"\n",
    "summarizer = Summarizer.metrics(\"mean\", \"count\")\n",
    "\n",
    "# compute statistics for multiple metrics with weight\n",
    "df.select(summarizer.summary(df.features, df.weight)).show(truncate=False)\n",
    "\n",
    "# compute statistics for multiple metrics without weight\n",
    "df.select(summarizer.summary(df.features)).show(truncate=False)\n",
    "\n",
    "# compute statistics for single metric \"mean\" with weight\n",
    "df.select(Summarizer.mean(df.features, df.weight)).show(truncate=False)\n",
    "\n",
    "# compute statistics for single metric \"mean\" without weight\n",
    "df.select(Summarizer.mean(df.features)).show(truncate=False)"
   ]
  },
  {
   "cell_type": "code",
   "execution_count": 119,
   "metadata": {},
   "outputs": [],
   "source": [
    "from pyspark.ml.linalg import Vectors\n",
    "from pyspark.ml.classification import LogisticRegression"
   ]
  },
  {
   "cell_type": "code",
   "execution_count": 120,
   "metadata": {},
   "outputs": [],
   "source": [
    "# Prepare training data from a list of (label, features) tuples.\n",
    "training = spark.createDataFrame([\n",
    "    (1.0, Vectors.dense([0.0, 1.1, 0.1])),\n",
    "    (0.0, Vectors.dense([2.0, 1.0, -1.0])),\n",
    "    (0.0, Vectors.dense([2.0, 1.3, 1.0])),\n",
    "    (1.0, Vectors.dense([0.0, 1.2, -0.5]))], [\"label\", \"features\"])"
   ]
  },
  {
   "cell_type": "code",
   "execution_count": 121,
   "metadata": {},
   "outputs": [],
   "source": [
    "# Create a LogisticRegression instance. This instance is an Estimator.\n",
    "lr = LogisticRegression(maxIter=10, regParam=0.01)"
   ]
  },
  {
   "cell_type": "code",
   "execution_count": 122,
   "metadata": {},
   "outputs": [
    {
     "name": "stdout",
     "output_type": "stream",
     "text": [
      "LogisticRegression parameters:\n",
      "aggregationDepth: suggested depth for treeAggregate (>= 2). (default: 2)\n",
      "elasticNetParam: the ElasticNet mixing parameter, in range [0, 1]. For alpha = 0, the penalty is an L2 penalty. For alpha = 1, it is an L1 penalty. (default: 0.0)\n",
      "family: The name of family which is a description of the label distribution to be used in the model. Supported options: auto, binomial, multinomial (default: auto)\n",
      "featuresCol: features column name. (default: features)\n",
      "fitIntercept: whether to fit an intercept term. (default: True)\n",
      "labelCol: label column name. (default: label)\n",
      "lowerBoundsOnCoefficients: The lower bounds on coefficients if fitting under bound constrained optimization. The bound matrix must be compatible with the shape (1, number of features) for binomial regression, or (number of classes, number of features) for multinomial regression. (undefined)\n",
      "lowerBoundsOnIntercepts: The lower bounds on intercepts if fitting under bound constrained optimization. The bounds vector size must beequal with 1 for binomial regression, or the number oflasses for multinomial regression. (undefined)\n",
      "maxIter: max number of iterations (>= 0). (default: 100, current: 10)\n",
      "predictionCol: prediction column name. (default: prediction)\n",
      "probabilityCol: Column name for predicted class conditional probabilities. Note: Not all models output well-calibrated probability estimates! These probabilities should be treated as confidences, not precise probabilities. (default: probability)\n",
      "rawPredictionCol: raw prediction (a.k.a. confidence) column name. (default: rawPrediction)\n",
      "regParam: regularization parameter (>= 0). (default: 0.0, current: 0.01)\n",
      "standardization: whether to standardize the training features before fitting the model. (default: True)\n",
      "threshold: Threshold in binary classification prediction, in range [0, 1]. If threshold and thresholds are both set, they must match.e.g. if threshold is p, then thresholds must be equal to [1-p, p]. (default: 0.5)\n",
      "thresholds: Thresholds in multi-class classification to adjust the probability of predicting each class. Array must have length equal to the number of classes, with values > 0, excepting that at most one value may be 0. The class with largest value p/t is predicted, where p is the original probability of that class and t is the class's threshold. (undefined)\n",
      "tol: the convergence tolerance for iterative algorithms (>= 0). (default: 1e-06)\n",
      "upperBoundsOnCoefficients: The upper bounds on coefficients if fitting under bound constrained optimization. The bound matrix must be compatible with the shape (1, number of features) for binomial regression, or (number of classes, number of features) for multinomial regression. (undefined)\n",
      "upperBoundsOnIntercepts: The upper bounds on intercepts if fitting under bound constrained optimization. The bound vector size must be equal with 1 for binomial regression, or the number of classes for multinomial regression. (undefined)\n",
      "weightCol: weight column name. If this is not set or empty, we treat all instance weights as 1.0. (undefined)\n",
      "\n"
     ]
    }
   ],
   "source": [
    "# Print out the parameters, documentation, and any default values.\n",
    "print(\"LogisticRegression parameters:\\n\" + lr.explainParams() + \"\\n\")"
   ]
  },
  {
   "cell_type": "code",
   "execution_count": 123,
   "metadata": {},
   "outputs": [],
   "source": [
    "# Learn a LogisticRegression model. This uses the parameters stored in lr.\n",
    "model1 = lr.fit(training)"
   ]
  },
  {
   "cell_type": "code",
   "execution_count": 124,
   "metadata": {},
   "outputs": [
    {
     "name": "stdout",
     "output_type": "stream",
     "text": [
      "Model 1 was fit using parameters: \n",
      "{Param(parent='LogisticRegression_740d4665432d', name='aggregationDepth', doc='suggested depth for treeAggregate (>= 2)'): 2, Param(parent='LogisticRegression_740d4665432d', name='elasticNetParam', doc='the ElasticNet mixing parameter, in range [0, 1]. For alpha = 0, the penalty is an L2 penalty. For alpha = 1, it is an L1 penalty'): 0.0, Param(parent='LogisticRegression_740d4665432d', name='family', doc='The name of family which is a description of the label distribution to be used in the model. Supported options: auto, binomial, multinomial.'): 'auto', Param(parent='LogisticRegression_740d4665432d', name='featuresCol', doc='features column name'): 'features', Param(parent='LogisticRegression_740d4665432d', name='fitIntercept', doc='whether to fit an intercept term'): True, Param(parent='LogisticRegression_740d4665432d', name='labelCol', doc='label column name'): 'label', Param(parent='LogisticRegression_740d4665432d', name='maxIter', doc='maximum number of iterations (>= 0)'): 10, Param(parent='LogisticRegression_740d4665432d', name='predictionCol', doc='prediction column name'): 'prediction', Param(parent='LogisticRegression_740d4665432d', name='probabilityCol', doc='Column name for predicted class conditional probabilities. Note: Not all models output well-calibrated probability estimates! These probabilities should be treated as confidences, not precise probabilities'): 'probability', Param(parent='LogisticRegression_740d4665432d', name='rawPredictionCol', doc='raw prediction (a.k.a. confidence) column name'): 'rawPrediction', Param(parent='LogisticRegression_740d4665432d', name='regParam', doc='regularization parameter (>= 0)'): 0.01, Param(parent='LogisticRegression_740d4665432d', name='standardization', doc='whether to standardize the training features before fitting the model'): True, Param(parent='LogisticRegression_740d4665432d', name='threshold', doc='threshold in binary classification prediction, in range [0, 1]'): 0.5, Param(parent='LogisticRegression_740d4665432d', name='tol', doc='the convergence tolerance for iterative algorithms (>= 0)'): 1e-06}\n"
     ]
    }
   ],
   "source": [
    "# Since model1 is a Model (i.e., a transformer produced by an Estimator),\n",
    "# we can view the parameters it used during fit().\n",
    "# This prints the parameter (name: value) pairs, where names are unique IDs for this\n",
    "# LogisticRegression instance.\n",
    "print(\"Model 1 was fit using parameters: \")\n",
    "print(model1.extractParamMap())"
   ]
  },
  {
   "cell_type": "code",
   "execution_count": 125,
   "metadata": {},
   "outputs": [],
   "source": [
    "# We may alternatively specify parameters using a Python dictionary as a paramMap\n",
    "paramMap = {lr.maxIter: 20}\n",
    "paramMap[lr.maxIter] = 30  # Specify 1 Param, overwriting the original maxIter.\n",
    "paramMap.update({lr.regParam: 0.1, lr.threshold: 0.55})  # Specify multiple Params."
   ]
  },
  {
   "cell_type": "code",
   "execution_count": 126,
   "metadata": {},
   "outputs": [],
   "source": [
    "# You can combine paramMaps, which are python dictionaries.\n",
    "paramMap2 = {lr.probabilityCol: \"myProbability\"}  # Change output column name\n",
    "paramMapCombined = paramMap.copy()\n",
    "paramMapCombined.update(paramMap2)"
   ]
  },
  {
   "cell_type": "code",
   "execution_count": 127,
   "metadata": {},
   "outputs": [
    {
     "name": "stdout",
     "output_type": "stream",
     "text": [
      "Model 2 was fit using parameters: \n",
      "{Param(parent='LogisticRegression_740d4665432d', name='aggregationDepth', doc='suggested depth for treeAggregate (>= 2)'): 2, Param(parent='LogisticRegression_740d4665432d', name='elasticNetParam', doc='the ElasticNet mixing parameter, in range [0, 1]. For alpha = 0, the penalty is an L2 penalty. For alpha = 1, it is an L1 penalty'): 0.0, Param(parent='LogisticRegression_740d4665432d', name='family', doc='The name of family which is a description of the label distribution to be used in the model. Supported options: auto, binomial, multinomial.'): 'auto', Param(parent='LogisticRegression_740d4665432d', name='featuresCol', doc='features column name'): 'features', Param(parent='LogisticRegression_740d4665432d', name='fitIntercept', doc='whether to fit an intercept term'): True, Param(parent='LogisticRegression_740d4665432d', name='labelCol', doc='label column name'): 'label', Param(parent='LogisticRegression_740d4665432d', name='maxIter', doc='maximum number of iterations (>= 0)'): 30, Param(parent='LogisticRegression_740d4665432d', name='predictionCol', doc='prediction column name'): 'prediction', Param(parent='LogisticRegression_740d4665432d', name='probabilityCol', doc='Column name for predicted class conditional probabilities. Note: Not all models output well-calibrated probability estimates! These probabilities should be treated as confidences, not precise probabilities'): 'myProbability', Param(parent='LogisticRegression_740d4665432d', name='rawPredictionCol', doc='raw prediction (a.k.a. confidence) column name'): 'rawPrediction', Param(parent='LogisticRegression_740d4665432d', name='regParam', doc='regularization parameter (>= 0)'): 0.1, Param(parent='LogisticRegression_740d4665432d', name='standardization', doc='whether to standardize the training features before fitting the model'): True, Param(parent='LogisticRegression_740d4665432d', name='threshold', doc='threshold in binary classification prediction, in range [0, 1]'): 0.55, Param(parent='LogisticRegression_740d4665432d', name='tol', doc='the convergence tolerance for iterative algorithms (>= 0)'): 1e-06}\n"
     ]
    }
   ],
   "source": [
    "# Now learn a new model using the paramMapCombined parameters.\n",
    "# paramMapCombined overrides all parameters set earlier via lr.set* methods.\n",
    "model2 = lr.fit(training, paramMapCombined)\n",
    "print(\"Model 2 was fit using parameters: \")\n",
    "print(model2.extractParamMap())"
   ]
  },
  {
   "cell_type": "code",
   "execution_count": 128,
   "metadata": {},
   "outputs": [],
   "source": [
    "# Prepare test data\n",
    "test = spark.createDataFrame([\n",
    "    (1.0, Vectors.dense([-1.0, 1.5, 1.3])),\n",
    "    (0.0, Vectors.dense([3.0, 2.0, -0.1])),\n",
    "    (1.0, Vectors.dense([0.0, 2.2, -1.5]))], [\"label\", \"features\"])"
   ]
  },
  {
   "cell_type": "code",
   "execution_count": 129,
   "metadata": {},
   "outputs": [],
   "source": [
    "# Make predictions on test data using the Transformer.transform() method.\n",
    "# LogisticRegression.transform will only use the 'features' column.\n",
    "# Note that model2.transform() outputs a \"myProbability\" column instead of the usual\n",
    "# 'probability' column since we renamed the lr.probabilityCol parameter previously.\n",
    "prediction = model2.transform(test)\n",
    "result = prediction.select(\"features\", \"label\", \"myProbability\", \"prediction\") \\\n",
    "    .collect()"
   ]
  },
  {
   "cell_type": "code",
   "execution_count": 130,
   "metadata": {},
   "outputs": [
    {
     "name": "stdout",
     "output_type": "stream",
     "text": [
      "features=[-1.0,1.5,1.3], label=1.0 -> prob=[0.057073041710340625,0.9429269582896593], prediction=1.0\n",
      "features=[3.0,2.0,-0.1], label=0.0 -> prob=[0.9238522311704118,0.07614776882958811], prediction=0.0\n",
      "features=[0.0,2.2,-1.5], label=1.0 -> prob=[0.10972776114779748,0.8902722388522026], prediction=1.0\n"
     ]
    }
   ],
   "source": [
    "for row in result:\n",
    "    print(\"features=%s, label=%s -> prob=%s, prediction=%s\"\n",
    "          % (row.features, row.label, row.myProbability, row.prediction))"
   ]
  },
  {
   "cell_type": "code",
   "execution_count": 131,
   "metadata": {},
   "outputs": [],
   "source": [
    "from pyspark.ml import Pipeline\n",
    "from pyspark.ml.classification import LogisticRegression\n",
    "from pyspark.ml.feature import HashingTF, Tokenizer"
   ]
  },
  {
   "cell_type": "code",
   "execution_count": 132,
   "metadata": {},
   "outputs": [],
   "source": [
    "# Prepare training documents from a list of (id, text, label) tuples.\n",
    "training = spark.createDataFrame([\n",
    "    (0, \"a b c d e spark\", 1.0),\n",
    "    (1, \"b d\", 0.0),\n",
    "    (2, \"spark f g h\", 1.0),\n",
    "    (3, \"hadoop mapreduce\", 0.0)\n",
    "], [\"id\", \"text\", \"label\"])\n"
   ]
  },
  {
   "cell_type": "code",
   "execution_count": 133,
   "metadata": {},
   "outputs": [],
   "source": [
    "# Configure an ML pipeline, which consists of three stages: tokenizer, hashingTF, and lr.\n",
    "tokenizer = Tokenizer(inputCol=\"text\", outputCol=\"words\")\n",
    "hashingTF = HashingTF(inputCol=tokenizer.getOutputCol(), outputCol=\"features\")\n",
    "lr = LogisticRegression(maxIter=10, regParam=0.001)\n",
    "pipeline = Pipeline(stages=[tokenizer, hashingTF, lr])"
   ]
  },
  {
   "cell_type": "code",
   "execution_count": 134,
   "metadata": {},
   "outputs": [],
   "source": [
    "# Fit the pipeline to training documents.\n",
    "model = pipeline.fit(training)"
   ]
  },
  {
   "cell_type": "code",
   "execution_count": 135,
   "metadata": {},
   "outputs": [],
   "source": [
    "# Prepare test documents, which are unlabeled (id, text) tuples.\n",
    "test = spark.createDataFrame([\n",
    "    (4, \"spark i j k\"),\n",
    "    (5, \"l m n\"),\n",
    "    (6, \"spark hadoop spark\"),\n",
    "    (7, \"apache hadoop\")\n",
    "], [\"id\", \"text\"])"
   ]
  },
  {
   "cell_type": "code",
   "execution_count": 136,
   "metadata": {},
   "outputs": [
    {
     "name": "stdout",
     "output_type": "stream",
     "text": [
      "(4, spark i j k) --> prob=[0.1596407738787475,0.8403592261212525], prediction=1.000000\n",
      "(5, l m n) --> prob=[0.8378325685476744,0.16216743145232562], prediction=0.000000\n",
      "(6, spark hadoop spark) --> prob=[0.06926633132976037,0.9307336686702395], prediction=1.000000\n",
      "(7, apache hadoop) --> prob=[0.9821575333444218,0.01784246665557808], prediction=0.000000\n"
     ]
    }
   ],
   "source": [
    "# Make predictions on test documents and print columns of interest.\n",
    "prediction = model.transform(test)\n",
    "selected = prediction.select(\"id\", \"text\", \"probability\", \"prediction\")\n",
    "for row in selected.collect():\n",
    "    rid, text, prob, prediction = row\n",
    "    print(\"(%d, %s) --> prob=%s, prediction=%f\" % (rid, text, str(prob), prediction))"
   ]
  },
  {
   "cell_type": "code",
   "execution_count": 137,
   "metadata": {},
   "outputs": [],
   "source": [
    "# Построение модели\n",
    "from pyspark.ml import Pipeline\n",
    "from pyspark.ml.classification import LogisticRegression\n",
    "from pyspark.ml.feature import HashingTF, Tokenizer\n",
    "from pyspark.sql import Row\n",
    "from pyspark.sql.functions import UserDefinedFunction\n",
    "from pyspark.sql.types import *"
   ]
  },
  {
   "cell_type": "code",
   "execution_count": 138,
   "metadata": {},
   "outputs": [],
   "source": [
    "inspections = spark.read.csv(\"2\", header=True, inferSchema=True)"
   ]
  },
  {
   "cell_type": "code",
   "execution_count": 139,
   "metadata": {},
   "outputs": [
    {
     "data": {
      "text/plain": [
       "[Row(Inspection ID=2370170, DBA Name='DAMEN FOOD MARKET', AKA Name='DAMEN FOOD MARKET', License #=2671810, Facility Type='Grocery Store', Risk='Risk 2 (Medium)', Address='2001 S DAMEN AVE ', City='CHICAGO', State='IL', Zip=60608, Inspection Date='05/06/2020', Inspection Type='Canvass', Results='Fail', Violations='36. THERMOMETERS PROVIDED & ACCURATE - Comments: 4-302.12 OBSERVED NO METAL STEM THERMOMETER ON SITE TO PROPERLY TAKE TEMPERATURES OF COLD AND HOT FOODS. INSTRUCTED TO PROVIDE. PRIORITY FOUNDATION 7-38-005. | 38. INSECTS, RODENTS, & ANIMALS NOT PRESENT - Comments: 6-202.15 OBSERVED FRONT ENTRANCE DOOR NOT RODENT PROOFED WITH A 1/4 INCH GAP. INSTRUCTED TO MAKE SAID DOOR TIGHT FITTING. | 55. PHYSICAL FACILITIES INSTALLED, MAINTAINED & CLEAN - Comments: 6-501.114 OBSERVED ITEMS ON THE FLOOR IN THE REAR. INSTRUCTED TO ORGANIZE AND ELEVATE EVERYTHING AT LEAST 6 INCHES.', Latitude=41.85491131910428, Longitude=-87.67577256587357, Location='(-87.67577256587357, 41.85491131910428)')]"
      ]
     },
     "execution_count": 139,
     "metadata": {},
     "output_type": "execute_result"
    }
   ],
   "source": [
    "inspections.take(1)"
   ]
  },
  {
   "cell_type": "code",
   "execution_count": 140,
   "metadata": {},
   "outputs": [],
   "source": [
    "schema = StructType([\n",
    "StructField(\"id\", IntegerType(), False),\n",
    "StructField(\"name\", StringType(), False),\n",
    "StructField(\"results\", StringType(), False),\n",
    "StructField(\"violations\", StringType(), True)])\n",
    "\n",
    "df = spark.createDataFrame(inspections.rdd.map(lambda l: (int(l[0]), l[1], l[12], l[13])) , schema)\n",
    "df.registerTempTable('CountResults')"
   ]
  },
  {
   "cell_type": "code",
   "execution_count": 142,
   "metadata": {},
   "outputs": [
    {
     "name": "stdout",
     "output_type": "stream",
     "text": [
      "+-------+--------------------+------------------+--------------------+\n",
      "|     id|                name|           results|          violations|\n",
      "+-------+--------------------+------------------+--------------------+\n",
      "|2370170|   DAMEN FOOD MARKET|              Fail|36. THERMOMETERS ...|\n",
      "|2370099|JIMMYS BEST MIXED...|Pass w/ Conditions|21. PROPER HOT HO...|\n",
      "|2370053|      79 FOOD BASKET|              Fail|3. MANAGEMENT, FO...|\n",
      "|2370044|CHACKO'S MINI FD....|   Out of Business|                null|\n",
      "|2370040|    VILLA ROSA PIZZA|   Out of Business|                null|\n",
      "|2370035|HAROLD'S CHICKEN ...|          No Entry|                null|\n",
      "|2370045|     ZAYNA MED GRILL|              Pass|                null|\n",
      "|2370031|ENERGY AND HEALTH...|   Out of Business|                null|\n",
      "|2370027|     HOT DOG EXPRESS|   Out of Business|                null|\n",
      "|2370016|LEAGUE CHILD DEVE...|          No Entry|                null|\n",
      "|2370015|               CITGO|   Out of Business|                null|\n",
      "|2370022|                IHOP|   Out of Business|                null|\n",
      "|2370003|FRIENDLY FOOD & L...|   Out of Business|                null|\n",
      "|2369994|   WALGREENS # 06297|Pass w/ Conditions|5. PROCEDURES FOR...|\n",
      "|2369996|GODDESS AND THE B...|              Pass|                null|\n",
      "|2369973|     WALGREENS #1496|              Pass|                null|\n",
      "|2369959|SUPER JALAPENO GR...|              Pass|                null|\n",
      "|2369955|HUMBOLDT HAUS DEL...|              Pass|53. TOILET FACILI...|\n",
      "|2369930|          MOBILE GAS|              Pass|                null|\n",
      "|2369937|BIG SHOULDERS COF...|              Pass|                null|\n",
      "+-------+--------------------+------------------+--------------------+\n",
      "only showing top 20 rows\n",
      "\n"
     ]
    }
   ],
   "source": [
    "df.show()\n"
   ]
  },
  {
   "cell_type": "code",
   "execution_count": 143,
   "metadata": {},
   "outputs": [
    {
     "name": "stdout",
     "output_type": "stream",
     "text": [
      "+--------------------+\n",
      "|             results|\n",
      "+--------------------+\n",
      "|           Not Ready|\n",
      "|                Fail|\n",
      "|            No Entry|\n",
      "|Business Not Located|\n",
      "|  Pass w/ Conditions|\n",
      "|     Out of Business|\n",
      "|                Pass|\n",
      "+--------------------+\n",
      "\n"
     ]
    }
   ],
   "source": [
    "df.select('results').distinct().show()"
   ]
  },
  {
   "cell_type": "code",
   "execution_count": 144,
   "metadata": {},
   "outputs": [
    {
     "name": "stderr",
     "output_type": "stream",
     "text": [
      "UsageError: Line magic function `%local` not found.\n"
     ]
    }
   ],
   "source": [
    "%local countResultsdf = spark.sql(\"SELECT COUNT(results) AS cnt, results as results FROM CountResults GROUP BY results\").toPandas()"
   ]
  },
  {
   "cell_type": "code",
   "execution_count": 145,
   "metadata": {},
   "outputs": [
    {
     "name": "stdout",
     "output_type": "stream",
     "text": [
      "Requirement already satisfied: sparkmagic in /opt/conda/lib/python3.7/site-packages (0.15.0)\n",
      "Requirement already satisfied: ipyleaflet in /opt/conda/lib/python3.7/site-packages (0.12.6)\n",
      "Requirement already satisfied: geomet in /opt/conda/lib/python3.7/site-packages (0.2.1.post1)\n",
      "Requirement already satisfied: notebook>=4.2 in /opt/conda/lib/python3.7/site-packages (from sparkmagic) (6.0.3)\n",
      "Requirement already satisfied: pandas>=0.17.1 in /opt/conda/lib/python3.7/site-packages (from sparkmagic) (1.0.2)\n",
      "Requirement already satisfied: numpy in /opt/conda/lib/python3.7/site-packages (from sparkmagic) (1.18.1)\n",
      "Requirement already satisfied: tornado>=4 in /opt/conda/lib/python3.7/site-packages (from sparkmagic) (6.0.4)\n",
      "Requirement already satisfied: ipykernel in /opt/conda/lib/python3.7/site-packages (from sparkmagic) (5.1.4)\n",
      "Requirement already satisfied: mock in /opt/conda/lib/python3.7/site-packages (from sparkmagic) (4.0.2)\n",
      "Requirement already satisfied: requests in /opt/conda/lib/python3.7/site-packages (from sparkmagic) (2.23.0)\n",
      "Requirement already satisfied: ipython>=4.0.2 in /opt/conda/lib/python3.7/site-packages (from sparkmagic) (7.13.0)\n",
      "Requirement already satisfied: autovizwidget>=0.6 in /opt/conda/lib/python3.7/site-packages (from sparkmagic) (0.15.0)\n",
      "Requirement already satisfied: hdijupyterutils>=0.6 in /opt/conda/lib/python3.7/site-packages (from sparkmagic) (0.15.0)\n",
      "Requirement already satisfied: ipywidgets>5.0.0 in /opt/conda/lib/python3.7/site-packages (from sparkmagic) (7.5.1)\n",
      "Requirement already satisfied: requests-kerberos>=0.8.0 in /opt/conda/lib/python3.7/site-packages (from sparkmagic) (0.12.0)\n",
      "Requirement already satisfied: nose in /opt/conda/lib/python3.7/site-packages (from sparkmagic) (1.3.7)\n",
      "Requirement already satisfied: traittypes<3,>=0.2.1 in /opt/conda/lib/python3.7/site-packages (from ipyleaflet) (0.2.1)\n",
      "Requirement already satisfied: branca<0.4,>=0.3.1 in /opt/conda/lib/python3.7/site-packages (from ipyleaflet) (0.3.1)\n",
      "Requirement already satisfied: click in /opt/conda/lib/python3.7/site-packages (from geomet) (7.1.1)\n",
      "Requirement already satisfied: six in /opt/conda/lib/python3.7/site-packages (from geomet) (1.14.0)\n",
      "Requirement already satisfied: jupyter-core>=4.6.1 in /opt/conda/lib/python3.7/site-packages (from notebook>=4.2->sparkmagic) (4.6.3)\n",
      "Requirement already satisfied: jinja2 in /opt/conda/lib/python3.7/site-packages (from notebook>=4.2->sparkmagic) (2.11.1)\n",
      "Requirement already satisfied: traitlets>=4.2.1 in /opt/conda/lib/python3.7/site-packages (from notebook>=4.2->sparkmagic) (4.3.3)\n",
      "Requirement already satisfied: ipython-genutils in /opt/conda/lib/python3.7/site-packages (from notebook>=4.2->sparkmagic) (0.2.0)\n",
      "Requirement already satisfied: nbformat in /opt/conda/lib/python3.7/site-packages (from notebook>=4.2->sparkmagic) (5.0.4)\n",
      "Requirement already satisfied: nbconvert in /opt/conda/lib/python3.7/site-packages (from notebook>=4.2->sparkmagic) (5.6.1)\n",
      "Requirement already satisfied: prometheus-client in /opt/conda/lib/python3.7/site-packages (from notebook>=4.2->sparkmagic) (0.7.1)\n",
      "Requirement already satisfied: terminado>=0.8.1 in /opt/conda/lib/python3.7/site-packages (from notebook>=4.2->sparkmagic) (0.8.3)\n",
      "Requirement already satisfied: jupyter-client>=5.3.4 in /opt/conda/lib/python3.7/site-packages (from notebook>=4.2->sparkmagic) (6.0.0)\n",
      "Requirement already satisfied: pyzmq>=17 in /opt/conda/lib/python3.7/site-packages (from notebook>=4.2->sparkmagic) (19.0.0)\n",
      "Requirement already satisfied: Send2Trash in /opt/conda/lib/python3.7/site-packages (from notebook>=4.2->sparkmagic) (1.5.0)\n",
      "Requirement already satisfied: pytz>=2017.2 in /opt/conda/lib/python3.7/site-packages (from pandas>=0.17.1->sparkmagic) (2019.3)\n",
      "Requirement already satisfied: python-dateutil>=2.6.1 in /opt/conda/lib/python3.7/site-packages (from pandas>=0.17.1->sparkmagic) (2.8.1)\n",
      "Requirement already satisfied: urllib3!=1.25.0,!=1.25.1,<1.26,>=1.21.1 in /opt/conda/lib/python3.7/site-packages (from requests->sparkmagic) (1.25.7)\n",
      "Requirement already satisfied: certifi>=2017.4.17 in /opt/conda/lib/python3.7/site-packages (from requests->sparkmagic) (2019.11.28)\n",
      "Requirement already satisfied: idna<3,>=2.5 in /opt/conda/lib/python3.7/site-packages (from requests->sparkmagic) (2.9)\n",
      "Requirement already satisfied: chardet<4,>=3.0.2 in /opt/conda/lib/python3.7/site-packages (from requests->sparkmagic) (3.0.4)\n",
      "Requirement already satisfied: prompt-toolkit!=3.0.0,!=3.0.1,<3.1.0,>=2.0.0 in /opt/conda/lib/python3.7/site-packages (from ipython>=4.0.2->sparkmagic) (3.0.4)\n",
      "Requirement already satisfied: pygments in /opt/conda/lib/python3.7/site-packages (from ipython>=4.0.2->sparkmagic) (2.6.1)\n",
      "Requirement already satisfied: pexpect; sys_platform != \"win32\" in /opt/conda/lib/python3.7/site-packages (from ipython>=4.0.2->sparkmagic) (4.8.0)\n",
      "Requirement already satisfied: setuptools>=18.5 in /opt/conda/lib/python3.7/site-packages (from ipython>=4.0.2->sparkmagic) (46.0.0.post20200311)\n",
      "Requirement already satisfied: jedi>=0.10 in /opt/conda/lib/python3.7/site-packages (from ipython>=4.0.2->sparkmagic) (0.16.0)\n",
      "Requirement already satisfied: backcall in /opt/conda/lib/python3.7/site-packages (from ipython>=4.0.2->sparkmagic) (0.1.0)\n",
      "Requirement already satisfied: decorator in /opt/conda/lib/python3.7/site-packages (from ipython>=4.0.2->sparkmagic) (4.4.2)\n",
      "Requirement already satisfied: pickleshare in /opt/conda/lib/python3.7/site-packages (from ipython>=4.0.2->sparkmagic) (0.7.5)\n",
      "Requirement already satisfied: plotly>=3 in /opt/conda/lib/python3.7/site-packages (from autovizwidget>=0.6->sparkmagic) (4.7.1)\n",
      "Requirement already satisfied: jupyter>=1 in /opt/conda/lib/python3.7/site-packages (from hdijupyterutils>=0.6->sparkmagic) (1.0.0)\n",
      "Requirement already satisfied: widgetsnbextension~=3.5.0 in /opt/conda/lib/python3.7/site-packages (from ipywidgets>5.0.0->sparkmagic) (3.5.1)\n",
      "Requirement already satisfied: cryptography>=1.3; python_version != \"3.3\" in /opt/conda/lib/python3.7/site-packages (from requests-kerberos>=0.8.0->sparkmagic) (2.8)\n",
      "Requirement already satisfied: pykerberos<2.0.0,>=1.1.8; sys_platform != \"win32\" in /opt/conda/lib/python3.7/site-packages (from requests-kerberos>=0.8.0->sparkmagic) (1.2.1)\n",
      "Requirement already satisfied: MarkupSafe>=0.23 in /opt/conda/lib/python3.7/site-packages (from jinja2->notebook>=4.2->sparkmagic) (1.1.1)\n",
      "Requirement already satisfied: jsonschema!=2.5.0,>=2.4 in /opt/conda/lib/python3.7/site-packages (from nbformat->notebook>=4.2->sparkmagic) (3.2.0)\n",
      "Requirement already satisfied: defusedxml in /opt/conda/lib/python3.7/site-packages (from nbconvert->notebook>=4.2->sparkmagic) (0.6.0)\n",
      "Requirement already satisfied: testpath in /opt/conda/lib/python3.7/site-packages (from nbconvert->notebook>=4.2->sparkmagic) (0.4.4)\n",
      "Requirement already satisfied: bleach in /opt/conda/lib/python3.7/site-packages (from nbconvert->notebook>=4.2->sparkmagic) (3.1.3)\n",
      "Requirement already satisfied: mistune<2,>=0.8.1 in /opt/conda/lib/python3.7/site-packages (from nbconvert->notebook>=4.2->sparkmagic) (0.8.4)\n",
      "Requirement already satisfied: pandocfilters>=1.4.1 in /opt/conda/lib/python3.7/site-packages (from nbconvert->notebook>=4.2->sparkmagic) (1.4.2)\n",
      "Requirement already satisfied: entrypoints>=0.2.2 in /opt/conda/lib/python3.7/site-packages (from nbconvert->notebook>=4.2->sparkmagic) (0.3)\n",
      "Requirement already satisfied: wcwidth in /opt/conda/lib/python3.7/site-packages (from prompt-toolkit!=3.0.0,!=3.0.1,<3.1.0,>=2.0.0->ipython>=4.0.2->sparkmagic) (0.1.8)\n",
      "Requirement already satisfied: ptyprocess>=0.5 in /opt/conda/lib/python3.7/site-packages (from pexpect; sys_platform != \"win32\"->ipython>=4.0.2->sparkmagic) (0.6.0)\n",
      "Requirement already satisfied: parso>=0.5.2 in /opt/conda/lib/python3.7/site-packages (from jedi>=0.10->ipython>=4.0.2->sparkmagic) (0.6.2)\n",
      "Requirement already satisfied: retrying>=1.3.3 in /opt/conda/lib/python3.7/site-packages (from plotly>=3->autovizwidget>=0.6->sparkmagic) (1.3.3)\n",
      "Requirement already satisfied: jupyter-console in /opt/conda/lib/python3.7/site-packages (from jupyter>=1->hdijupyterutils>=0.6->sparkmagic) (6.1.0)\n",
      "Requirement already satisfied: qtconsole in /opt/conda/lib/python3.7/site-packages (from jupyter>=1->hdijupyterutils>=0.6->sparkmagic) (4.7.3)\n"
     ]
    },
    {
     "name": "stdout",
     "output_type": "stream",
     "text": [
      "Requirement already satisfied: cffi!=1.11.3,>=1.8 in /opt/conda/lib/python3.7/site-packages (from cryptography>=1.3; python_version != \"3.3\"->requests-kerberos>=0.8.0->sparkmagic) (1.14.0)\n",
      "Requirement already satisfied: attrs>=17.4.0 in /opt/conda/lib/python3.7/site-packages (from jsonschema!=2.5.0,>=2.4->nbformat->notebook>=4.2->sparkmagic) (19.3.0)\n",
      "Requirement already satisfied: pyrsistent>=0.14.0 in /opt/conda/lib/python3.7/site-packages (from jsonschema!=2.5.0,>=2.4->nbformat->notebook>=4.2->sparkmagic) (0.15.7)\n",
      "Requirement already satisfied: importlib-metadata; python_version < \"3.8\" in /opt/conda/lib/python3.7/site-packages (from jsonschema!=2.5.0,>=2.4->nbformat->notebook>=4.2->sparkmagic) (1.5.0)\n",
      "Requirement already satisfied: webencodings in /opt/conda/lib/python3.7/site-packages (from bleach->nbconvert->notebook>=4.2->sparkmagic) (0.5.1)\n",
      "Requirement already satisfied: qtpy in /opt/conda/lib/python3.7/site-packages (from qtconsole->jupyter>=1->hdijupyterutils>=0.6->sparkmagic) (1.9.0)\n",
      "Requirement already satisfied: pycparser in /opt/conda/lib/python3.7/site-packages (from cffi!=1.11.3,>=1.8->cryptography>=1.3; python_version != \"3.3\"->requests-kerberos>=0.8.0->sparkmagic) (2.20)\n",
      "Requirement already satisfied: zipp>=0.5 in /opt/conda/lib/python3.7/site-packages (from importlib-metadata; python_version < \"3.8\"->jsonschema!=2.5.0,>=2.4->nbformat->notebook>=4.2->sparkmagic) (3.1.0)\n"
     ]
    }
   ],
   "source": [
    "!pip install sparkmagic ipyleaflet geomet"
   ]
  },
  {
   "cell_type": "code",
   "execution_count": 146,
   "metadata": {},
   "outputs": [
    {
     "name": "stdout",
     "output_type": "stream",
     "text": [
      "Enabling notebook extension jupyter-js-widgets/extension...\n",
      "      - Validating: \u001b[32mOK\u001b[0m\n"
     ]
    }
   ],
   "source": [
    "!jupyter nbextension enable --py widgetsnbextension"
   ]
  },
  {
   "cell_type": "code",
   "execution_count": 147,
   "metadata": {},
   "outputs": [
    {
     "name": "stdout",
     "output_type": "stream",
     "text": [
      "Enabling notebook extension jupyter-leaflet/extension...\n",
      "      - Validating: \u001b[32mOK\u001b[0m\n"
     ]
    }
   ],
   "source": [
    "!jupyter nbextension enable --py --sys-prefix ipyleaflet"
   ]
  },
  {
   "cell_type": "code",
   "execution_count": 148,
   "metadata": {},
   "outputs": [
    {
     "name": "stdout",
     "output_type": "stream",
     "text": [
      "[InstallKernelSpec] Removing existing kernelspec in /home/jovyan/.local/share/jupyter/kernels/sparkkernel\n",
      "[InstallKernelSpec] Installed kernelspec sparkkernel in /home/jovyan/.local/share/jupyter/kernels/sparkkernel\n",
      "[InstallKernelSpec] Removing existing kernelspec in /home/jovyan/.local/share/jupyter/kernels/pysparkkernel\n",
      "[InstallKernelSpec] Installed kernelspec pysparkkernel in /home/jovyan/.local/share/jupyter/kernels/pysparkkernel\n",
      "Traceback (most recent call last):\n",
      "  File \"/opt/conda/bin/jupyter-kernelspec\", line 10, in <module>\n",
      "    sys.exit(KernelSpecApp.launch_instance())\n",
      "  File \"/opt/conda/lib/python3.7/site-packages/traitlets/config/application.py\", line 664, in launch_instance\n",
      "    app.start()\n",
      "  File \"/opt/conda/lib/python3.7/site-packages/jupyter_client/kernelspecapp.py\", line 268, in start\n",
      "    return self.subapp.start()\n",
      "  File \"/opt/conda/lib/python3.7/site-packages/jupyter_client/kernelspecapp.py\", line 138, in start\n",
      "    replace=self.replace,\n",
      "  File \"/opt/conda/lib/python3.7/site-packages/jupyter_client/kernelspec.py\", line 345, in install_kernel_spec\n",
      "    shutil.copytree(source_dir, destination)\n",
      "  File \"/opt/conda/lib/python3.7/shutil.py\", line 318, in copytree\n",
      "    names = os.listdir(src)\n",
      "FileNotFoundError: [Errno 2] No such file or directory: '/opt/conda/lib/python3.7/site-packages/sparkmagic/kernels/pyspark3kernel'\n",
      "[InstallKernelSpec] Removing existing kernelspec in /home/jovyan/.local/share/jupyter/kernels/sparkrkernel\n",
      "[InstallKernelSpec] Installed kernelspec sparkrkernel in /home/jovyan/.local/share/jupyter/kernels/sparkrkernel\n"
     ]
    }
   ],
   "source": [
    "!jupyter-kernelspec install $(pip show sparkmagic | grep Location | cut -d\" \" -f2)/sparkmagic/kernels/sparkkernel --user\n",
    "!jupyter-kernelspec install $(pip show sparkmagic | grep Location | cut -d\" \" -f2)/sparkmagic/kernels/pysparkkernel --user\n",
    "!jupyter-kernelspec install $(pip show sparkmagic | grep Location | cut -d\" \" -f2)/sparkmagic/kernels/pyspark3kernel --user\n",
    "!jupyter-kernelspec install $(pip show sparkmagic | grep Location | cut -d\" \" -f2)/sparkmagic/kernels/sparkrkernel --user"
   ]
  },
  {
   "cell_type": "code",
   "execution_count": 149,
   "metadata": {},
   "outputs": [
    {
     "name": "stdout",
     "output_type": "stream",
     "text": [
      "Enabling: sparkmagic\r\n",
      "- Writing config: /home/jovyan/.jupyter\r\n",
      "    - Validating...\r\n",
      "      sparkmagic 0.15.0 \u001b[32mOK\u001b[0m\r\n"
     ]
    }
   ],
   "source": [
    "!jupyter serverextension enable --py sparkmagic"
   ]
  },
  {
   "cell_type": "code",
   "execution_count": 150,
   "metadata": {},
   "outputs": [],
   "source": [
    "!sed -i -e 's/return self._pyspark_command(sql_context_variable_name)/return self._pyspark_command(sql_context_variable_name, False)/g' $(pip show sparkmagic | grep Location | cut -d\" \" -f2)/sparkmagic/livyclientlib/sqlquery.py\n",
    "\n",
    "!rm -rf $(pip show sparkmagic | grep Location | cut -d\" \" -f2)/sparkmagic/livyclientlib/sqlquery.py-e\n"
   ]
  },
  {
   "cell_type": "code",
   "execution_count": 151,
   "metadata": {},
   "outputs": [
    {
     "name": "stderr",
     "output_type": "stream",
     "text": [
      "UsageError: Line magic function `%local` not found.\n"
     ]
    }
   ],
   "source": [
    "%local countResultsdf = spark.sql(\"SELECT COUNT(results) AS cnt, results as results FROM CountResults GROUP BY results\").toPandas()"
   ]
  },
  {
   "cell_type": "code",
   "execution_count": 152,
   "metadata": {},
   "outputs": [
    {
     "data": {
      "application/json": {
       "cell": {
        "!": "OSMagics",
        "HTML": "Other",
        "SVG": "Other",
        "bash": "Other",
        "capture": "ExecutionMagics",
        "debug": "ExecutionMagics",
        "file": "Other",
        "html": "DisplayMagics",
        "javascript": "DisplayMagics",
        "js": "DisplayMagics",
        "latex": "DisplayMagics",
        "markdown": "DisplayMagics",
        "perl": "Other",
        "prun": "ExecutionMagics",
        "pypy": "Other",
        "python": "Other",
        "python2": "Other",
        "python3": "Other",
        "ruby": "Other",
        "script": "ScriptMagics",
        "sh": "Other",
        "svg": "DisplayMagics",
        "sx": "OSMagics",
        "system": "OSMagics",
        "time": "ExecutionMagics",
        "timeit": "ExecutionMagics",
        "writefile": "OSMagics"
       },
       "line": {
        "alias": "OSMagics",
        "alias_magic": "BasicMagics",
        "autoawait": "AsyncMagics",
        "autocall": "AutoMagics",
        "automagic": "AutoMagics",
        "autosave": "KernelMagics",
        "bookmark": "OSMagics",
        "cat": "Other",
        "cd": "OSMagics",
        "clear": "KernelMagics",
        "colors": "BasicMagics",
        "conda": "PackagingMagics",
        "config": "ConfigMagics",
        "connect_info": "KernelMagics",
        "cp": "Other",
        "debug": "ExecutionMagics",
        "dhist": "OSMagics",
        "dirs": "OSMagics",
        "doctest_mode": "BasicMagics",
        "ed": "Other",
        "edit": "KernelMagics",
        "env": "OSMagics",
        "gui": "BasicMagics",
        "hist": "Other",
        "history": "HistoryMagics",
        "killbgscripts": "ScriptMagics",
        "ldir": "Other",
        "less": "KernelMagics",
        "lf": "Other",
        "lk": "Other",
        "ll": "Other",
        "load": "CodeMagics",
        "load_ext": "ExtensionMagics",
        "loadpy": "CodeMagics",
        "logoff": "LoggingMagics",
        "logon": "LoggingMagics",
        "logstart": "LoggingMagics",
        "logstate": "LoggingMagics",
        "logstop": "LoggingMagics",
        "ls": "Other",
        "lsmagic": "BasicMagics",
        "lx": "Other",
        "macro": "ExecutionMagics",
        "magic": "BasicMagics",
        "man": "KernelMagics",
        "matplotlib": "PylabMagics",
        "mkdir": "Other",
        "more": "KernelMagics",
        "mv": "Other",
        "notebook": "BasicMagics",
        "page": "BasicMagics",
        "pastebin": "CodeMagics",
        "pdb": "ExecutionMagics",
        "pdef": "NamespaceMagics",
        "pdoc": "NamespaceMagics",
        "pfile": "NamespaceMagics",
        "pinfo": "NamespaceMagics",
        "pinfo2": "NamespaceMagics",
        "pip": "PackagingMagics",
        "popd": "OSMagics",
        "pprint": "BasicMagics",
        "precision": "BasicMagics",
        "prun": "ExecutionMagics",
        "psearch": "NamespaceMagics",
        "psource": "NamespaceMagics",
        "pushd": "OSMagics",
        "pwd": "OSMagics",
        "pycat": "OSMagics",
        "pylab": "PylabMagics",
        "qtconsole": "KernelMagics",
        "quickref": "BasicMagics",
        "recall": "HistoryMagics",
        "rehashx": "OSMagics",
        "reload_ext": "ExtensionMagics",
        "rep": "Other",
        "rerun": "HistoryMagics",
        "reset": "NamespaceMagics",
        "reset_selective": "NamespaceMagics",
        "rm": "Other",
        "rmdir": "Other",
        "run": "ExecutionMagics",
        "save": "CodeMagics",
        "sc": "OSMagics",
        "set_env": "OSMagics",
        "store": "StoreMagics",
        "sx": "OSMagics",
        "system": "OSMagics",
        "tb": "ExecutionMagics",
        "time": "ExecutionMagics",
        "timeit": "ExecutionMagics",
        "unalias": "OSMagics",
        "unload_ext": "ExtensionMagics",
        "who": "NamespaceMagics",
        "who_ls": "NamespaceMagics",
        "whos": "NamespaceMagics",
        "xdel": "NamespaceMagics",
        "xmode": "BasicMagics"
       }
      },
      "text/plain": [
       "Available line magics:\n",
       "%alias  %alias_magic  %autoawait  %autocall  %automagic  %autosave  %bookmark  %cat  %cd  %clear  %colors  %conda  %config  %connect_info  %cp  %debug  %dhist  %dirs  %doctest_mode  %ed  %edit  %env  %gui  %hist  %history  %killbgscripts  %ldir  %less  %lf  %lk  %ll  %load  %load_ext  %loadpy  %logoff  %logon  %logstart  %logstate  %logstop  %ls  %lsmagic  %lx  %macro  %magic  %man  %matplotlib  %mkdir  %more  %mv  %notebook  %page  %pastebin  %pdb  %pdef  %pdoc  %pfile  %pinfo  %pinfo2  %pip  %popd  %pprint  %precision  %prun  %psearch  %psource  %pushd  %pwd  %pycat  %pylab  %qtconsole  %quickref  %recall  %rehashx  %reload_ext  %rep  %rerun  %reset  %reset_selective  %rm  %rmdir  %run  %save  %sc  %set_env  %store  %sx  %system  %tb  %time  %timeit  %unalias  %unload_ext  %who  %who_ls  %whos  %xdel  %xmode\n",
       "\n",
       "Available cell magics:\n",
       "%%!  %%HTML  %%SVG  %%bash  %%capture  %%debug  %%file  %%html  %%javascript  %%js  %%latex  %%markdown  %%perl  %%prun  %%pypy  %%python  %%python2  %%python3  %%ruby  %%script  %%sh  %%svg  %%sx  %%system  %%time  %%timeit  %%writefile\n",
       "\n",
       "Automagic is ON, % prefix IS NOT needed for line magics."
      ]
     },
     "execution_count": 152,
     "metadata": {},
     "output_type": "execute_result"
    }
   ],
   "source": [
    "%lsmagic"
   ]
  },
  {
   "cell_type": "code",
   "execution_count": 153,
   "metadata": {},
   "outputs": [],
   "source": [
    "# Укажем без magic function %\n",
    "countResultsdf = spark.sql(\"SELECT COUNT(results) AS cnt, results as results FROM CountResults GROUP BY results\").toPandas()"
   ]
  },
  {
   "cell_type": "code",
   "execution_count": 154,
   "metadata": {},
   "outputs": [
    {
     "data": {
      "text/html": [
       "<div>\n",
       "<style scoped>\n",
       "    .dataframe tbody tr th:only-of-type {\n",
       "        vertical-align: middle;\n",
       "    }\n",
       "\n",
       "    .dataframe tbody tr th {\n",
       "        vertical-align: top;\n",
       "    }\n",
       "\n",
       "    .dataframe thead th {\n",
       "        text-align: right;\n",
       "    }\n",
       "</style>\n",
       "<table border=\"1\" class=\"dataframe\">\n",
       "  <thead>\n",
       "    <tr style=\"text-align: right;\">\n",
       "      <th></th>\n",
       "      <th>cnt</th>\n",
       "      <th>results</th>\n",
       "    </tr>\n",
       "  </thead>\n",
       "  <tbody>\n",
       "    <tr>\n",
       "      <th>0</th>\n",
       "      <td>2054</td>\n",
       "      <td>Not Ready</td>\n",
       "    </tr>\n",
       "    <tr>\n",
       "      <th>1</th>\n",
       "      <td>39699</td>\n",
       "      <td>Fail</td>\n",
       "    </tr>\n",
       "    <tr>\n",
       "      <th>2</th>\n",
       "      <td>6812</td>\n",
       "      <td>No Entry</td>\n",
       "    </tr>\n",
       "    <tr>\n",
       "      <th>3</th>\n",
       "      <td>72</td>\n",
       "      <td>Business Not Located</td>\n",
       "    </tr>\n",
       "    <tr>\n",
       "      <th>4</th>\n",
       "      <td>30264</td>\n",
       "      <td>Pass w/ Conditions</td>\n",
       "    </tr>\n",
       "    <tr>\n",
       "      <th>5</th>\n",
       "      <td>17799</td>\n",
       "      <td>Out of Business</td>\n",
       "    </tr>\n",
       "    <tr>\n",
       "      <th>6</th>\n",
       "      <td>108797</td>\n",
       "      <td>Pass</td>\n",
       "    </tr>\n",
       "  </tbody>\n",
       "</table>\n",
       "</div>"
      ],
      "text/plain": [
       "      cnt               results\n",
       "0    2054             Not Ready\n",
       "1   39699                  Fail\n",
       "2    6812              No Entry\n",
       "3      72  Business Not Located\n",
       "4   30264    Pass w/ Conditions\n",
       "5   17799       Out of Business\n",
       "6  108797                  Pass"
      ]
     },
     "execution_count": 154,
     "metadata": {},
     "output_type": "execute_result"
    }
   ],
   "source": [
    "countResultsdf"
   ]
  },
  {
   "cell_type": "code",
   "execution_count": 155,
   "metadata": {},
   "outputs": [
    {
     "data": {
      "text/plain": [
       "(-1.1089530605705424,\n",
       " 1.1004263643582002,\n",
       " -1.1094731819512265,\n",
       " 1.1103504043710961)"
      ]
     },
     "execution_count": 155,
     "metadata": {},
     "output_type": "execute_result"
    },
    {
     "data": {
      "image/png": "[encoded data removed]",
      "text/plain": [
       "<Figure size 432x288 with 1 Axes>"
      ]
     },
     "metadata": {},
     "output_type": "display_data"
    }
   ],
   "source": [
    "%matplotlib inline\n",
    "import matplotlib.pyplot as plt\n",
    "\n",
    "labels = countResultsdf['results']\n",
    "sizes = countResultsdf['cnt']\n",
    "colors = ['turquoise', 'seagreen', 'mediumslateblue', 'palegreen', 'coral']\n",
    "plt.pie(sizes, labels=labels, autopct='%1.1f%%', colors=colors)\n",
    "plt.axis('equal')"
   ]
  },
  {
   "cell_type": "code",
   "execution_count": 156,
   "metadata": {},
   "outputs": [],
   "source": [
    "def labelForResults(s):\n",
    "    if s == 'Fail':\n",
    "        return 0.0\n",
    "    elif s == 'Pass w/ Conditions' or s == 'Pass':\n",
    "        return 1.0\n",
    "    else:\n",
    "        return -1.0\n",
    "label = UserDefinedFunction(labelForResults, DoubleType())\n",
    "labeledData = df.select(label(df.results).alias('label'), df.violations).where('label >= 0').fillna(\"null\")"
   ]
  },
  {
   "cell_type": "code",
   "execution_count": 158,
   "metadata": {},
   "outputs": [],
   "source": [
    "labeledDataSplits = labeledData.randomSplit([0.8, 0.2])\n",
    "trainData = labeledDataSplits[0]\n",
    "testData = labeledDataSplits[1]"
   ]
  },
  {
   "cell_type": "code",
   "execution_count": 159,
   "metadata": {},
   "outputs": [
    {
     "data": {
      "text/plain": [
       "[Row(label=0.0, violations='1. PERSON IN CHARGE PRESENT, DEMONSTRATES KNOWLEDGE, AND PERFORMS DUTIES - Comments:  2-101.11 PERSON IN CHARGE DOES NOT POSSESS A CITY OF CHICAGO SANITATION CERTIFICATE. INSTRUCTED ALL PERSONS IN CHARGE MUST HAVE A CITY SANITATION CERTIFICATE. PRIORITY FOUNDATION VIOLATION. NO CITATION ISSUED. | 25. CONSUMER ADVISORY PROVIDED FOR RAW/UNDERCOOKED FOOD - Comments:  3-603.11 MENU DOES NOT DISCLOSE AND INFORM CONSUMERS THE SPECIFIC MENU ITEMS THAT ARE RAW OR UNDER COOKED AND A POTENTIAL HAZARD OF CONSUMING SUCH FOOD. MUST PROVIDE A CONSUMER ADVISORY AND DISCLOSE SUCH ITEMS. PRIORITY FOUNDATION VIOLATION. NO CITATION ISSUED. | 37. FOOD PROPERLY LABELED; ORIGINAL CONTAINER - Comments:  3-602.11(A; B:1-4,6,7; C; D) ALL PREPACKAGED PREPARED FOODS IN THE FRONT DISPLAY COOLER SUCH AS: PASTA SALAD, SANDWICHES, GREEN SALADS MUST BE PROPERLY LABELED WITH BUSINESS NAME, ADDRESS AND LIST OF INGREDIENTS. | 37. FOOD PROPERLY LABELED; ORIGINAL CONTAINER - Comments:  3-602.11(B:5) ALL PREPACKAGED GRANOLA ON DISPLAY FOR SALE CONTAINING NUTS MUST BE PROPERLY LABELED FOR ALLERGENS. PRIORITY FOUNDATION VIOLATION. NO CITATION ISSUED. | 40. PERSONAL CLEANLINESS - Comments: : 2-402.11 ALL EMPLOYEES PREPARING FOODS/COFFEES MUST WEAR EFFECTIVE HAIR AND BEARD RESTRAINTS.  | 41. WIPING CLOTHS: PROPERLY USED & STORED - Comments: : 3-304.14 ALL PREP AREA WET WIPING CLOTHS MUST BE HELD INSIDE CONTAINERS WITH A SANITIZING SOLUTION BETWEEN USE. | 47. FOOD & NON-FOOD CONTACT SURFACES CLEANABLE, PROPERLY DESIGNED, CONSTRUCTED & USED - Comments:  4-501.13 NOTED THE BROKEN MICROWAVE OVEN REPAIRED WITH TAPE. MUST PROPERLY REPAIR OR REPLACE. | 48. WAREWASHING FACILITIES: INSTALLED, MAINTAINED & USED; TEST STRIPS - Comments:  4-302.14 NO CHLORINE CHEMICAL TEST STRIPS ON SITE FOR THE CHLORINE SANITIZING DISH WASHING MACHINE. MUST PROVIDE. PRIORITY FOUNDATION VIOLATION 7-38-005 CITATION ISSUED. | 51. PLUMBING INSTALLED; PROPER BACKFLOW DEVICES - Comments: : 5-205.15 LEAK ON THE HOT HANDLE OF THE BAKERY PREP HAND WASHING SINK. MUST REPAIR. | 55. PHYSICAL FACILITIES INSTALLED, MAINTAINED & CLEAN - Comments: : 6-201.11 FLOORS THROUGHOUT THE FRONT PREP AREA WITH DIRT AND DEBRIS. FLOOR DRAIN UNDER THE THREE COMPARTMENT SINK DIRTY. MUST CLEAN AND MAINTAIN ALL. | 60. PREVIOUS CORE VIOLATION CORRECTED - Comments:  8-404.13(B:4)  PREVIOUS CORE VIOLATIONS FROM #2232476 ON 10-30-18 NOT CORRECTED. #57- OBSERVED FACILITY MISSING REQUIRED FOOD HANDLER TRAINING CERTIFICATION FOR ALL FOOD HANDLER EMPLOYEES. FACILITY MUST OBTAIN AND MAINTAIN ALL REQUIRED FOOD HANDLER TRAINING CERTIFICATION FOR ALL FOOD HANDLER EMPLOYEES ON SITE FOR INSPECTION REVIEW. #58- OBSERVED FACILITY FOOD SERVICE SANITATION MANAGERS WITHOUT REQUIRED ALLERGEN TRAINING CERTIFICATION. MUST OBTAIN AND MAINTAIN. PRIORITY FOUNDATION VIOLATION 7-42-090 CITATION ISSUED. ')]"
      ]
     },
     "execution_count": 159,
     "metadata": {},
     "output_type": "execute_result"
    }
   ],
   "source": [
    "trainData.take(1)"
   ]
  },
  {
   "cell_type": "code",
   "execution_count": 160,
   "metadata": {},
   "outputs": [],
   "source": [
    "tokenizer = Tokenizer(inputCol=\"violations\", outputCol=\"words\")\n",
    "hashingTF = HashingTF(inputCol=tokenizer.getOutputCol(), outputCol=\"features\")\n",
    "lr = LogisticRegression(maxIter=10, regParam=0.01)\n",
    "pipeline = Pipeline(stages=[tokenizer, hashingTF, lr])\n",
    "\n",
    "model = pipeline.fit(labeledData)"
   ]
  },
  {
   "cell_type": "code",
   "execution_count": 161,
   "metadata": {},
   "outputs": [
    {
     "data": {
      "text/plain": [
       "['label',\n",
       " 'violations',\n",
       " 'words',\n",
       " 'features',\n",
       " 'rawPrediction',\n",
       " 'probability',\n",
       " 'prediction']"
      ]
     },
     "execution_count": 161,
     "metadata": {},
     "output_type": "execute_result"
    }
   ],
   "source": [
    "predictionsDf = model.transform(testData)\n",
    "predictionsDf.registerTempTable('Predictions')\n",
    "predictionsDf.columns"
   ]
  },
  {
   "cell_type": "code",
   "execution_count": 162,
   "metadata": {},
   "outputs": [
    {
     "data": {
      "text/plain": [
       "[Row(label=0.0, violations=\"1. PERSON IN CHARGE PRESENT, DEMONSTRATES KNOWLEDGE, AND PERFORMS DUTIES - Comments:  PERSON IN CHARGE AT THE TIME OF INSPECTION DOES NOT HAVE A CITY OF CHICAGO SANITATION CERTIFICATE. PRIORITY FOUNDATION VIOLATION. NO CITATION ISSUED - | 3. MANAGEMENT, FOOD EMPLOYEE AND CONDITIONAL EMPLOYEE; KNOWLEDGE, RESPONSIBILITIES AND REPORTING - Comments: FOUND NO EMPLOYEE HEALTH POLICY/TRAINING ON SITE. INSTRUCTED FACILITY TO ESTABLISH AN APPROPRIATE EMPLOYEE HEALTH POLICY/TRAINING SYSTEM AND MAINTAIN WITH VERIFIABLE DOCUMENTS ON SITE. PRIORITY FOUNDATION VIOLATION 7-38-010. NO CITATION ISSUED | 5. PROCEDURES FOR RESPONDING TO VOMITING AND DIARRHEAL EVENTS - Comments: FOUND NO PROCEDURE/PLAN AND KIT FOR RESPONDING TO VOMITING AND DIARRHEAL EVENTS. INSTRUCTED FACILITY TO DEVELOP AND MAINTAIN A PROCEDURE/PLAN AND KIT TO MAINTAIN ANY APPROPRIATE SUPPLIES ON SITE. PRIORITY FOUNDATION VIOLATION 7-38-005.NO CITATION ISSUED   | 10. ADEQUATE HANDWASHING SINKS PROPERLY SUPPLIED AND ACCESSIBLE - Comments:  OBSERVED HANDWASHING INSTALLED AT FRONT PREP/SERVING AREA NOT CONVENIENT TO EMPLOYEE(PRESENT HANDWASHING SINK IS LOCATED AT WEST SIDE OF THE FRONT COUNTER BY THE THREE COMPARTMENT SINK),PREP/SERVING AND CASH REGISTRAR IS LOCATED AT EAST SIDE OF THE FRONT COUNTER. INSTRUCTED TO INSTALL ANOTHER HANDWASHING SINK AT OTHER SIDE OF COUNTER BY THE PREP/SERVING AND CASH REGISTRAR AREA. PRIORITY FOUNDATION VIOLATION:7-38-030(C),NO CITATION ISSUED | 41. WIPING CLOTHS: PROPERLY USED & STORED - Comments: LINENS MUST BE HELD BETWEEN USE IN A CONTAINER WITH A SANITIZING SOLUTION TO WIPE MULTI USE UTENSILS /CUTTING BOARDS ETC. | 55. PHYSICAL FACILITIES INSTALLED, MAINTAINED & CLEAN - Comments: DEBRIS ON FLOOR UNDER SHELVES AND ALONG BASEBOARD WALLS AT SECOND FLOOR DRY STORAGE,ALSO REMOVE STOCK STORED ON FLOOR, ELEVATE STOCKS 4' ABOVE THE FLOOR BY PROVIDING RAISED SHELVES | 57. ALL FOOD EMPLOYEES HAVE FOOD HANDLER TRAINING - Comments: NO FOOD HANDLER TRAINING CERTIFICATE PROVIDED ON SITE ,INSTRUCTED TO PROVIDE  | 59. PREVIOUS PRIORITY FOUNDATION VIOLATION CORRECTED - Comments: PREVIOUS PRIORITY FOUNDATION VIOLATION NOT CORRECTED FROM 7-25-19,REPORT#2303727 WE OBSERVED BLACK SLIME SUBSTANCE AT INTERIOR OF ICE MACHINE.SLIME SUBSTANCE DRIPPING ON ICE AT ICE BIN ATTACHED TO UNIT .ICE IS USED FOR HUMAN CONSUMPTION. INSTRUCTED TO CLEAN,SANITIZE AND MAINTAIN UNIT.  PRIORITY VIOLATION:7-38-005,CITATION ISSUED -  TODAY 8-2-19 STILL  WE OBSERVED BLACK SLIME SUBSTANCE INSIDE THE ICE MACHINE. | 61. SUMMARY REPORT DISPLAYED AND VISIBLE TO THE PUBLIC - Comments: PREVIOUS INSPECTION SUMMARY REPORT FROM 7-25-19,REPORT #2303727 NO DISPLAYED AND VISIBLE TO ALL CUSTOMERS.NEW INSPECTION SUMMARY REPORT GIVEN AND INSTRUCTED TO DISPLAY PRIORITY FOUNDATION VIOLATION:7-42-010(B)\", words=['1.', 'person', 'in', 'charge', 'present,', 'demonstrates', 'knowledge,', 'and', 'performs', 'duties', '-', 'comments:', '', 'person', 'in', 'charge', 'at', 'the', 'time', 'of', 'inspection', 'does', 'not', 'have', 'a', 'city', 'of', 'chicago', 'sanitation', 'certificate.', 'priority', 'foundation', 'violation.', 'no', 'citation', 'issued', '-', '|', '3.', 'management,', 'food', 'employee', 'and', 'conditional', 'employee;', 'knowledge,', 'responsibilities', 'and', 'reporting', '-', 'comments:', 'found', 'no', 'employee', 'health', 'policy/training', 'on', 'site.', 'instructed', 'facility', 'to', 'establish', 'an', 'appropriate', 'employee', 'health', 'policy/training', 'system', 'and', 'maintain', 'with', 'verifiable', 'documents', 'on', 'site.', 'priority', 'foundation', 'violation', '7-38-010.', 'no', 'citation', 'issued', '|', '5.', 'procedures', 'for', 'responding', 'to', 'vomiting', 'and', 'diarrheal', 'events', '-', 'comments:', 'found', 'no', 'procedure/plan', 'and', 'kit', 'for', 'responding', 'to', 'vomiting', 'and', 'diarrheal', 'events.', 'instructed', 'facility', 'to', 'develop', 'and', 'maintain', 'a', 'procedure/plan', 'and', 'kit', 'to', 'maintain', 'any', 'appropriate', 'supplies', 'on', 'site.', 'priority', 'foundation', 'violation', '7-38-005.no', 'citation', 'issued', '', '', '|', '10.', 'adequate', 'handwashing', 'sinks', 'properly', 'supplied', 'and', 'accessible', '-', 'comments:', '', 'observed', 'handwashing', 'installed', 'at', 'front', 'prep/serving', 'area', 'not', 'convenient', 'to', 'employee(present', 'handwashing', 'sink', 'is', 'located', 'at', 'west', 'side', 'of', 'the', 'front', 'counter', 'by', 'the', 'three', 'compartment', 'sink),prep/serving', 'and', 'cash', 'registrar', 'is', 'located', 'at', 'east', 'side', 'of', 'the', 'front', 'counter.', 'instructed', 'to', 'install', 'another', 'handwashing', 'sink', 'at', 'other', 'side', 'of', 'counter', 'by', 'the', 'prep/serving', 'and', 'cash', 'registrar', 'area.', 'priority', 'foundation', 'violation:7-38-030(c),no', 'citation', 'issued', '|', '41.', 'wiping', 'cloths:', 'properly', 'used', '&', 'stored', '-', 'comments:', 'linens', 'must', 'be', 'held', 'between', 'use', 'in', 'a', 'container', 'with', 'a', 'sanitizing', 'solution', 'to', 'wipe', 'multi', 'use', 'utensils', '/cutting', 'boards', 'etc.', '|', '55.', 'physical', 'facilities', 'installed,', 'maintained', '&', 'clean', '-', 'comments:', 'debris', 'on', 'floor', 'under', 'shelves', 'and', 'along', 'baseboard', 'walls', 'at', 'second', 'floor', 'dry', 'storage,also', 'remove', 'stock', 'stored', 'on', 'floor,', 'elevate', 'stocks', \"4'\", 'above', 'the', 'floor', 'by', 'providing', 'raised', 'shelves', '|', '57.', 'all', 'food', 'employees', 'have', 'food', 'handler', 'training', '-', 'comments:', 'no', 'food', 'handler', 'training', 'certificate', 'provided', 'on', 'site', ',instructed', 'to', 'provide', '', '|', '59.', 'previous', 'priority', 'foundation', 'violation', 'corrected', '-', 'comments:', 'previous', 'priority', 'foundation', 'violation', 'not', 'corrected', 'from', '7-25-19,report#2303727', 'we', 'observed', 'black', 'slime', 'substance', 'at', 'interior', 'of', 'ice', 'machine.slime', 'substance', 'dripping', 'on', 'ice', 'at', 'ice', 'bin', 'attached', 'to', 'unit', '.ice', 'is', 'used', 'for', 'human', 'consumption.', 'instructed', 'to', 'clean,sanitize', 'and', 'maintain', 'unit.', '', 'priority', 'violation:7-38-005,citation', 'issued', '-', '', 'today', '8-2-19', 'still', '', 'we', 'observed', 'black', 'slime', 'substance', 'inside', 'the', 'ice', 'machine.', '|', '61.', 'summary', 'report', 'displayed', 'and', 'visible', 'to', 'the', 'public', '-', 'comments:', 'previous', 'inspection', 'summary', 'report', 'from', '7-25-19,report', '#2303727', 'no', 'displayed', 'and', 'visible', 'to', 'all', 'customers.new', 'inspection', 'summary', 'report', 'given', 'and', 'instructed', 'to', 'display', 'priority', 'foundation', 'violation:7-42-010(b)'], features=SparseVector(262144, {2325: 3.0, 4089: 1.0, 5862: 1.0, 6025: 1.0, 6106: 1.0, 7724: 1.0, 8500: 3.0, 9125: 1.0, 9639: 6.0, 10430: 1.0, 11251: 4.0, 11910: 1.0, 12336: 1.0, 12445: 1.0, 13289: 1.0, 14311: 9.0, 15889: 3.0, 16181: 1.0, 16256: 1.0, 16332: 3.0, 17584: 1.0, 19212: 1.0, 20495: 1.0, 21028: 1.0, 21316: 1.0, 21471: 1.0, 24145: 1.0, 24973: 1.0, 28282: 1.0, 30844: 2.0, 31735: 1.0, 36200: 1.0, 37728: 2.0, 38765: 3.0, 40268: 2.0, 40830: 1.0, 41170: 1.0, 43298: 1.0, 43583: 1.0, 43815: 1.0, 45531: 11.0, 46498: 2.0, 50217: 1.0, 50223: 4.0, 50849: 2.0, 53943: 1.0, 54205: 1.0, 56667: 1.0, 56804: 1.0, 58141: 1.0, 58162: 1.0, 58241: 2.0, 58262: 1.0, 59755: 1.0, 63050: 1.0, 63091: 5.0, 63241: 1.0, 66250: 1.0, 69718: 1.0, 69998: 1.0, 72516: 3.0, 80333: 3.0, 81631: 1.0, 83300: 1.0, 86752: 1.0, 88105: 1.0, 90757: 2.0, 90859: 1.0, 91677: 17.0, 94851: 1.0, 95122: 1.0, 95866: 1.0, 95906: 1.0, 97260: 1.0, 98373: 1.0, 99346: 1.0, 100258: 7.0, 100952: 1.0, 101169: 2.0, 102675: 1.0, 103382: 8.0, 103838: 8.0, 104153: 1.0, 104659: 4.0, 105063: 1.0, 107950: 1.0, 108647: 1.0, 113458: 2.0, 114381: 3.0, 115062: 1.0, 115218: 1.0, 116873: 2.0, 121133: 4.0, 121356: 1.0, 121424: 1.0, 121517: 1.0, 123069: 3.0, 123938: 1.0, 124643: 2.0, 125011: 1.0, 125353: 2.0, 126466: 2.0, 127370: 2.0, 129461: 3.0, 133143: 3.0, 133156: 1.0, 134024: 2.0, 135499: 1.0, 135560: 2.0, 135568: 1.0, 138751: 1.0, 139098: 3.0, 140737: 1.0, 141488: 1.0, 141683: 2.0, 143894: 1.0, 145542: 1.0, 145624: 1.0, 145697: 1.0, 145838: 1.0, 146227: 2.0, 147024: 1.0, 147489: 2.0, 152685: 2.0, 153032: 1.0, 153581: 1.0, 156250: 6.0, 159390: 1.0, 159775: 2.0, 161061: 2.0, 161088: 1.0, 165823: 3.0, 167152: 1.0, 167656: 1.0, 168425: 2.0, 168592: 1.0, 169961: 1.0, 176964: 8.0, 178880: 1.0, 185591: 1.0, 187337: 1.0, 188373: 1.0, 193224: 1.0, 193313: 2.0, 193347: 1.0, 194536: 1.0, 194821: 2.0, 200018: 1.0, 200400: 4.0, 201846: 3.0, 202732: 1.0, 203018: 7.0, 203609: 1.0, 204253: 2.0, 205044: 14.0, 205305: 2.0, 205324: 1.0, 205340: 1.0, 205349: 1.0, 208279: 2.0, 212952: 5.0, 214482: 1.0, 215647: 1.0, 215944: 2.0, 216058: 1.0, 217720: 1.0, 218380: 1.0, 218391: 1.0, 218825: 3.0, 218829: 1.0, 219136: 8.0, 220960: 1.0, 222453: 3.0, 225305: 4.0, 225574: 2.0, 227410: 4.0, 227642: 1.0, 229407: 1.0, 229543: 1.0, 230443: 2.0, 230962: 1.0, 232128: 1.0, 233971: 2.0, 237325: 2.0, 239774: 1.0, 243536: 1.0, 244670: 2.0, 249180: 8.0, 250521: 1.0, 251195: 2.0, 252167: 1.0, 252272: 1.0, 252378: 1.0, 252417: 1.0, 252637: 1.0, 253475: 2.0, 254742: 1.0, 256070: 1.0, 259167: 2.0, 259928: 2.0}), rawPrediction=DenseVector([6.0235, -6.0235]), probability=DenseVector([0.9976, 0.0024]), prediction=0.0)]"
      ]
     },
     "execution_count": 162,
     "metadata": {},
     "output_type": "execute_result"
    }
   ],
   "source": [
    "predictionsDf.take(1)"
   ]
  },
  {
   "cell_type": "code",
   "execution_count": 163,
   "metadata": {},
   "outputs": [
    {
     "name": "stdout",
     "output_type": "stream",
     "text": [
      "There were 35742 inspections and there were 34643 successful predictions\n",
      "This is a 96.92518605562084% success rate\n"
     ]
    }
   ],
   "source": [
    "numSuccesses = predictionsDf.where(\"\"\"(prediction = 0 AND results = 'Fail') OR\n",
    "                                        (prediction = 1 AND (results = 'Pass' OR\n",
    "                                                            results = 'Pass w/ Conditions'))\"\"\").count()\n",
    "numInspections = predictionsDf.count()\n",
    "\n",
    "print(\"There were\", numInspections, \"inspections and there were\", numSuccesses, \"successful predictions\")\n",
    "print(\"This is a\", str((float(numSuccesses) / float(numInspections)) * 100) + \"%\", \"success rate\")"
   ]
  },
  {
   "cell_type": "code",
   "execution_count": 164,
   "metadata": {},
   "outputs": [],
   "source": [
    "true_positive = predictionsDf.where(\"prediction = 0 AND results = 'Fail'\").count()"
   ]
  },
  {
   "cell_type": "code",
   "execution_count": 165,
   "metadata": {},
   "outputs": [],
   "source": [
    "false_positive = predictionsDf.where(\"prediction = 0 AND (results = 'Pass' OR results = 'Pass w/ Conditions')\").count()"
   ]
  },
  {
   "cell_type": "code",
   "execution_count": 166,
   "metadata": {},
   "outputs": [],
   "source": [
    "true_negative = predictionsDf.where(\"prediction = 1 AND results = 'Fail'\").count()"
   ]
  },
  {
   "cell_type": "code",
   "execution_count": 167,
   "metadata": {},
   "outputs": [],
   "source": [
    "false_negative = predictionsDf.where(\"prediction = 1 AND (results = 'Pass' OR results = 'Pass w/ Conditions')\").count()"
   ]
  },
  {
   "cell_type": "code",
   "execution_count": 168,
   "metadata": {},
   "outputs": [
    {
     "data": {
      "text/plain": [
       "(-1.1047212236212636,\n",
       " 1.1002248201724412,\n",
       " -1.1053092053565108,\n",
       " 1.101589266482251)"
      ]
     },
     "execution_count": 168,
     "metadata": {},
     "output_type": "execute_result"
    },
    {
     "data": {
      "image/png": "[encoded data removed]",
      "text/plain": [
       "<Figure size 432x288 with 1 Axes>"
      ]
     },
     "metadata": {},
     "output_type": "display_data"
    }
   ],
   "source": [
    "%matplotlib inline\n",
    "import matplotlib.pyplot as plt\n",
    "\n",
    "labels = ['True positive', 'False positive', 'True negative', 'False negative']\n",
    "sizes = [true_positive, false_positive, false_negative, true_negative]\n",
    "colors = ['turquoise', 'seagreen', 'mediumslateblue', 'palegreen', 'coral']\n",
    "plt.pie(sizes, labels=labels, autopct='%1.1f%%', colors=colors)\n",
    "plt.axis('equal')"
   ]
  },
  {
   "cell_type": "code",
   "execution_count": null,
   "metadata": {},
   "outputs": [],
   "source": []
  }
 ],
 "metadata": {
  "kernelspec": {
   "display_name": "Python 3",
   "language": "python",
   "name": "python3"
  },
  "language_info": {
   "codemirror_mode": {
    "name": "ipython",
    "version": 3
   },
   "file_extension": ".py",
   "mimetype": "text/x-python",
   "name": "python",
   "nbconvert_exporter": "python",
   "pygments_lexer": "ipython3",
   "version": "3.7.6"
  }
 },
 "nbformat": 4,
 "nbformat_minor": 4
}
